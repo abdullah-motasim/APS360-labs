{
  "cells": [
    {
      "cell_type": "markdown",
      "metadata": {
        "id": "OhtOdxzd1ppr"
      },
      "source": [
        "# Lab 4: Data Imputation using an Autoencoder\n",
        "\n",
        "\n",
        "In this lab, you will build and train an autoencoder to impute (or \"fill in\") missing data.\n",
        "\n",
        "We will be using the\n",
        "Adult Data Set provided by the UCI Machine Learning Repository [1], available\n",
        "at https://archive.ics.uci.edu/ml/datasets/adult.\n",
        "The data set contains census record files of adults, including their\n",
        "age, martial status, the type of work they do, and other features.\n",
        "\n",
        "Normally, people use this data set to build a supervised classification\n",
        "model to classify whether a person is a high income earner.\n",
        "We will not use the dataset for this original intended purpose.\n",
        "\n",
        "Instead, we will perform the task of imputing (or \"filling in\") missing values in the dataset. For example,\n",
        "we may be missing one person's martial status, and another person's age, and\n",
        "a third person's level of education. Our model will predict the missing features\n",
        "based on the information that we do have about each person.\n",
        "\n",
        "We will use a variation of a denoising autoencoder to solve this data imputation\n",
        "problem. Our autoencoder will be trained using inputs that have one categorical feature artificially\n",
        "removed, and the goal of the autoencoder is to correctly reconstruct all features,\n",
        "including the one removed from the input.\n",
        "\n",
        "In the process, you are expected to learn to:\n",
        "\n",
        "1. Clean and process continuous and categorical data for machine learning.\n",
        "2. Implement an autoencoder that takes continuous and categorical (one-hot) inputs.\n",
        "3. Tune the hyperparameters of an autoencoder.\n",
        "4. Use baseline models to help interpret model performance.\n",
        "\n",
        "[1] Dua, D. and Karra Taniskidou, E. (2017). UCI Machine Learning Repository [http://archive.ics.uci.edu/ml]. Irvine, CA: University of California, School of Information and Computer Science.\n",
        "\n",
        "\n",
        "### What to submit\n",
        "\n",
        "Submit a PDF file containing all your code, outputs, and write-up. You can produce a PDF of your Google Colab file by going to File > Print and then save as PDF. The Colab instructions have more information.\n",
        "\n",
        "Do not submit any other files produced by your code.\n",
        "\n",
        "Include a link to your colab file in your submission.\n"
      ]
    },
    {
      "cell_type": "markdown",
      "metadata": {
        "id": "zbnrp2ig1pps"
      },
      "source": [
        "## Colab Link\n",
        "\n",
        "Include a link to your Colab file here. If you would like the TA to look at your\n",
        "Colab file in case your solutions are cut off, **please make sure that your Colab\n",
        "file is publicly accessible at the time of submission**.\n",
        "\n",
        "Colab Link:https://colab.research.google.com/drive/1PTWr43CZS6tdWidtYa0zIEgbdXq6Y0G3?usp=sharing"
      ]
    },
    {
      "cell_type": "code",
      "execution_count": null,
      "metadata": {
        "collapsed": true,
        "id": "z3p8N43E1ppt",
        "jupyter": {
          "outputs_hidden": true
        }
      },
      "outputs": [],
      "source": [
        "import csv\n",
        "import numpy as np\n",
        "import random\n",
        "import torch\n",
        "import torch.utils.data\n",
        "import tensorflow as tf\n",
        "from sklearn import preprocessing\n",
        "import time\n",
        "import matplotlib.pyplot as plt"
      ]
    },
    {
      "cell_type": "markdown",
      "metadata": {
        "id": "8ROwtHcz1ppx"
      },
      "source": [
        "## Part 0\n",
        "\n",
        "We will be using a package called `pandas` for this assignment.\n",
        "\n",
        "If you are using Colab, `pandas` should already be available.\n",
        "If you are using your own computer,\n",
        "installation instructions for `pandas` are available here:\n",
        "https://pandas.pydata.org/pandas-docs/stable/install.html"
      ]
    },
    {
      "cell_type": "code",
      "execution_count": null,
      "metadata": {
        "collapsed": true,
        "id": "IXQ7BP151ppz",
        "jupyter": {
          "outputs_hidden": true
        }
      },
      "outputs": [],
      "source": [
        "import pandas as pd"
      ]
    },
    {
      "cell_type": "markdown",
      "metadata": {
        "id": "hqXihb4Q1pp2"
      },
      "source": [
        "# Part 1. Data Cleaning [15 pt]\n",
        "\n",
        "The adult.data file is available at `https://archive.ics.uci.edu/ml/machine-learning-databases/adult/adult.data`\n",
        "\n",
        "The function `pd.read_csv` loads the adult.data file into a pandas dataframe.\n",
        "You can read about the pandas documentation for `pd.read_csv` at\n",
        "https://pandas.pydata.org/pandas-docs/stable/reference/api/pandas.read_csv.html"
      ]
    },
    {
      "cell_type": "code",
      "execution_count": null,
      "metadata": {
        "colab": {
          "base_uri": "https://localhost:8080/"
        },
        "collapsed": true,
        "id": "EOMItFKn1pp3",
        "jupyter": {
          "outputs_hidden": true
        },
        "outputId": "230db4db-b0d7-4b93-cf30-8917b5003e8f"
      },
      "outputs": [
        {
          "output_type": "stream",
          "name": "stderr",
          "text": [
            "<ipython-input-3-037957db2593>:3: ParserWarning: Length of header or names does not match length of data. This leads to a loss of data with index_col=False.\n",
            "  df = pd.read_csv(\n"
          ]
        }
      ],
      "source": [
        "header = ['age', 'work', 'fnlwgt', 'edu', 'yredu', 'marriage', 'occupation',\n",
        " 'relationship', 'race', 'sex', 'capgain', 'caploss', 'workhr', 'country']\n",
        "df = pd.read_csv(\n",
        "    \"https://archive.ics.uci.edu/ml/machine-learning-databases/adult/adult.data\",\n",
        "    names=header,\n",
        "    index_col=False)"
      ]
    },
    {
      "cell_type": "code",
      "execution_count": null,
      "metadata": {
        "colab": {
          "base_uri": "https://localhost:8080/"
        },
        "id": "62Ot405q1pp5",
        "outputId": "9ba64b2c-791f-42ac-cb34-5d3cde7f73c4",
        "scrolled": true
      },
      "outputs": [
        {
          "output_type": "execute_result",
          "data": {
            "text/plain": [
              "(32561, 14)"
            ]
          },
          "metadata": {},
          "execution_count": 4
        }
      ],
      "source": [
        "df.shape # there are 32561 rows (records) in the data frame, and 14 columns (features)"
      ]
    },
    {
      "cell_type": "markdown",
      "metadata": {
        "id": "Tr7YG-QY1pp8"
      },
      "source": [
        "### Part (a) Continuous Features [3 pt]\n",
        "\n",
        "For each of the columns `[\"age\", \"yredu\", \"capgain\", \"caploss\", \"workhr\"]`, report the minimum, maximum, and average value across the dataset.\n",
        "\n",
        "Then, normalize each of the features `[\"age\", \"yredu\", \"capgain\", \"caploss\", \"workhr\"]`\n",
        "so that their values are always between 0 and 1.\n",
        "Make sure that you are actually modifying the dataframe `df`.\n",
        "\n",
        "Like numpy arrays and torch tensors,\n",
        "pandas data frames can be sliced. For example, we can\n",
        "display the first 3 rows of the data frame (3 records) below."
      ]
    },
    {
      "cell_type": "code",
      "execution_count": null,
      "metadata": {
        "colab": {
          "base_uri": "https://localhost:8080/",
          "height": 143
        },
        "id": "9evSLsSa1pp9",
        "outputId": "d4210ac9-05e9-46cf-e5cd-12ce46e6bf4f"
      },
      "outputs": [
        {
          "output_type": "execute_result",
          "data": {
            "text/plain": [
              "   age               work  fnlwgt         edu  yredu             marriage  \\\n",
              "0   39          State-gov   77516   Bachelors     13        Never-married   \n",
              "1   50   Self-emp-not-inc   83311   Bachelors     13   Married-civ-spouse   \n",
              "2   38            Private  215646     HS-grad      9             Divorced   \n",
              "\n",
              "           occupation    relationship    race    sex  capgain  caploss  \\\n",
              "0        Adm-clerical   Not-in-family   White   Male     2174        0   \n",
              "1     Exec-managerial         Husband   White   Male        0        0   \n",
              "2   Handlers-cleaners   Not-in-family   White   Male        0        0   \n",
              "\n",
              "   workhr         country  \n",
              "0      40   United-States  \n",
              "1      13   United-States  \n",
              "2      40   United-States  "
            ],
            "text/html": [
              "\n",
              "  <div id=\"df-b4afbc66-9372-4166-888f-c2ef712c89c6\">\n",
              "    <div class=\"colab-df-container\">\n",
              "      <div>\n",
              "<style scoped>\n",
              "    .dataframe tbody tr th:only-of-type {\n",
              "        vertical-align: middle;\n",
              "    }\n",
              "\n",
              "    .dataframe tbody tr th {\n",
              "        vertical-align: top;\n",
              "    }\n",
              "\n",
              "    .dataframe thead th {\n",
              "        text-align: right;\n",
              "    }\n",
              "</style>\n",
              "<table border=\"1\" class=\"dataframe\">\n",
              "  <thead>\n",
              "    <tr style=\"text-align: right;\">\n",
              "      <th></th>\n",
              "      <th>age</th>\n",
              "      <th>work</th>\n",
              "      <th>fnlwgt</th>\n",
              "      <th>edu</th>\n",
              "      <th>yredu</th>\n",
              "      <th>marriage</th>\n",
              "      <th>occupation</th>\n",
              "      <th>relationship</th>\n",
              "      <th>race</th>\n",
              "      <th>sex</th>\n",
              "      <th>capgain</th>\n",
              "      <th>caploss</th>\n",
              "      <th>workhr</th>\n",
              "      <th>country</th>\n",
              "    </tr>\n",
              "  </thead>\n",
              "  <tbody>\n",
              "    <tr>\n",
              "      <th>0</th>\n",
              "      <td>39</td>\n",
              "      <td>State-gov</td>\n",
              "      <td>77516</td>\n",
              "      <td>Bachelors</td>\n",
              "      <td>13</td>\n",
              "      <td>Never-married</td>\n",
              "      <td>Adm-clerical</td>\n",
              "      <td>Not-in-family</td>\n",
              "      <td>White</td>\n",
              "      <td>Male</td>\n",
              "      <td>2174</td>\n",
              "      <td>0</td>\n",
              "      <td>40</td>\n",
              "      <td>United-States</td>\n",
              "    </tr>\n",
              "    <tr>\n",
              "      <th>1</th>\n",
              "      <td>50</td>\n",
              "      <td>Self-emp-not-inc</td>\n",
              "      <td>83311</td>\n",
              "      <td>Bachelors</td>\n",
              "      <td>13</td>\n",
              "      <td>Married-civ-spouse</td>\n",
              "      <td>Exec-managerial</td>\n",
              "      <td>Husband</td>\n",
              "      <td>White</td>\n",
              "      <td>Male</td>\n",
              "      <td>0</td>\n",
              "      <td>0</td>\n",
              "      <td>13</td>\n",
              "      <td>United-States</td>\n",
              "    </tr>\n",
              "    <tr>\n",
              "      <th>2</th>\n",
              "      <td>38</td>\n",
              "      <td>Private</td>\n",
              "      <td>215646</td>\n",
              "      <td>HS-grad</td>\n",
              "      <td>9</td>\n",
              "      <td>Divorced</td>\n",
              "      <td>Handlers-cleaners</td>\n",
              "      <td>Not-in-family</td>\n",
              "      <td>White</td>\n",
              "      <td>Male</td>\n",
              "      <td>0</td>\n",
              "      <td>0</td>\n",
              "      <td>40</td>\n",
              "      <td>United-States</td>\n",
              "    </tr>\n",
              "  </tbody>\n",
              "</table>\n",
              "</div>\n",
              "      <button class=\"colab-df-convert\" onclick=\"convertToInteractive('df-b4afbc66-9372-4166-888f-c2ef712c89c6')\"\n",
              "              title=\"Convert this dataframe to an interactive table.\"\n",
              "              style=\"display:none;\">\n",
              "        \n",
              "  <svg xmlns=\"http://www.w3.org/2000/svg\" height=\"24px\"viewBox=\"0 0 24 24\"\n",
              "       width=\"24px\">\n",
              "    <path d=\"M0 0h24v24H0V0z\" fill=\"none\"/>\n",
              "    <path d=\"M18.56 5.44l.94 2.06.94-2.06 2.06-.94-2.06-.94-.94-2.06-.94 2.06-2.06.94zm-11 1L8.5 8.5l.94-2.06 2.06-.94-2.06-.94L8.5 2.5l-.94 2.06-2.06.94zm10 10l.94 2.06.94-2.06 2.06-.94-2.06-.94-.94-2.06-.94 2.06-2.06.94z\"/><path d=\"M17.41 7.96l-1.37-1.37c-.4-.4-.92-.59-1.43-.59-.52 0-1.04.2-1.43.59L10.3 9.45l-7.72 7.72c-.78.78-.78 2.05 0 2.83L4 21.41c.39.39.9.59 1.41.59.51 0 1.02-.2 1.41-.59l7.78-7.78 2.81-2.81c.8-.78.8-2.07 0-2.86zM5.41 20L4 18.59l7.72-7.72 1.47 1.35L5.41 20z\"/>\n",
              "  </svg>\n",
              "      </button>\n",
              "      \n",
              "  <style>\n",
              "    .colab-df-container {\n",
              "      display:flex;\n",
              "      flex-wrap:wrap;\n",
              "      gap: 12px;\n",
              "    }\n",
              "\n",
              "    .colab-df-convert {\n",
              "      background-color: #E8F0FE;\n",
              "      border: none;\n",
              "      border-radius: 50%;\n",
              "      cursor: pointer;\n",
              "      display: none;\n",
              "      fill: #1967D2;\n",
              "      height: 32px;\n",
              "      padding: 0 0 0 0;\n",
              "      width: 32px;\n",
              "    }\n",
              "\n",
              "    .colab-df-convert:hover {\n",
              "      background-color: #E2EBFA;\n",
              "      box-shadow: 0px 1px 2px rgba(60, 64, 67, 0.3), 0px 1px 3px 1px rgba(60, 64, 67, 0.15);\n",
              "      fill: #174EA6;\n",
              "    }\n",
              "\n",
              "    [theme=dark] .colab-df-convert {\n",
              "      background-color: #3B4455;\n",
              "      fill: #D2E3FC;\n",
              "    }\n",
              "\n",
              "    [theme=dark] .colab-df-convert:hover {\n",
              "      background-color: #434B5C;\n",
              "      box-shadow: 0px 1px 3px 1px rgba(0, 0, 0, 0.15);\n",
              "      filter: drop-shadow(0px 1px 2px rgba(0, 0, 0, 0.3));\n",
              "      fill: #FFFFFF;\n",
              "    }\n",
              "  </style>\n",
              "\n",
              "      <script>\n",
              "        const buttonEl =\n",
              "          document.querySelector('#df-b4afbc66-9372-4166-888f-c2ef712c89c6 button.colab-df-convert');\n",
              "        buttonEl.style.display =\n",
              "          google.colab.kernel.accessAllowed ? 'block' : 'none';\n",
              "\n",
              "        async function convertToInteractive(key) {\n",
              "          const element = document.querySelector('#df-b4afbc66-9372-4166-888f-c2ef712c89c6');\n",
              "          const dataTable =\n",
              "            await google.colab.kernel.invokeFunction('convertToInteractive',\n",
              "                                                     [key], {});\n",
              "          if (!dataTable) return;\n",
              "\n",
              "          const docLinkHtml = 'Like what you see? Visit the ' +\n",
              "            '<a target=\"_blank\" href=https://colab.research.google.com/notebooks/data_table.ipynb>data table notebook</a>'\n",
              "            + ' to learn more about interactive tables.';\n",
              "          element.innerHTML = '';\n",
              "          dataTable['output_type'] = 'display_data';\n",
              "          await google.colab.output.renderOutput(dataTable, element);\n",
              "          const docLink = document.createElement('div');\n",
              "          docLink.innerHTML = docLinkHtml;\n",
              "          element.appendChild(docLink);\n",
              "        }\n",
              "      </script>\n",
              "    </div>\n",
              "  </div>\n",
              "  "
            ]
          },
          "metadata": {},
          "execution_count": 5
        }
      ],
      "source": [
        "df[:3] # show the first 3 records"
      ]
    },
    {
      "cell_type": "markdown",
      "metadata": {
        "id": "gBOojI6W1pqA"
      },
      "source": [
        "Alternatively, we can slice based on column names,\n",
        "for example `df[\"race\"]`, `df[\"hr\"]`, or even index multiple columns\n",
        "like below."
      ]
    },
    {
      "cell_type": "code",
      "execution_count": null,
      "metadata": {
        "colab": {
          "base_uri": "https://localhost:8080/",
          "height": 143
        },
        "id": "4v6pp73A1pqB",
        "outputId": "c1eff5dc-8fcc-4575-b68c-fb65b5bc7b78"
      },
      "outputs": [
        {
          "output_type": "execute_result",
          "data": {
            "text/plain": [
              "   age  yredu  capgain  caploss  workhr\n",
              "0   39     13     2174        0      40\n",
              "1   50     13        0        0      13\n",
              "2   38      9        0        0      40"
            ],
            "text/html": [
              "\n",
              "  <div id=\"df-3d1daf5f-2508-421c-a1a0-76e4b527f057\">\n",
              "    <div class=\"colab-df-container\">\n",
              "      <div>\n",
              "<style scoped>\n",
              "    .dataframe tbody tr th:only-of-type {\n",
              "        vertical-align: middle;\n",
              "    }\n",
              "\n",
              "    .dataframe tbody tr th {\n",
              "        vertical-align: top;\n",
              "    }\n",
              "\n",
              "    .dataframe thead th {\n",
              "        text-align: right;\n",
              "    }\n",
              "</style>\n",
              "<table border=\"1\" class=\"dataframe\">\n",
              "  <thead>\n",
              "    <tr style=\"text-align: right;\">\n",
              "      <th></th>\n",
              "      <th>age</th>\n",
              "      <th>yredu</th>\n",
              "      <th>capgain</th>\n",
              "      <th>caploss</th>\n",
              "      <th>workhr</th>\n",
              "    </tr>\n",
              "  </thead>\n",
              "  <tbody>\n",
              "    <tr>\n",
              "      <th>0</th>\n",
              "      <td>39</td>\n",
              "      <td>13</td>\n",
              "      <td>2174</td>\n",
              "      <td>0</td>\n",
              "      <td>40</td>\n",
              "    </tr>\n",
              "    <tr>\n",
              "      <th>1</th>\n",
              "      <td>50</td>\n",
              "      <td>13</td>\n",
              "      <td>0</td>\n",
              "      <td>0</td>\n",
              "      <td>13</td>\n",
              "    </tr>\n",
              "    <tr>\n",
              "      <th>2</th>\n",
              "      <td>38</td>\n",
              "      <td>9</td>\n",
              "      <td>0</td>\n",
              "      <td>0</td>\n",
              "      <td>40</td>\n",
              "    </tr>\n",
              "  </tbody>\n",
              "</table>\n",
              "</div>\n",
              "      <button class=\"colab-df-convert\" onclick=\"convertToInteractive('df-3d1daf5f-2508-421c-a1a0-76e4b527f057')\"\n",
              "              title=\"Convert this dataframe to an interactive table.\"\n",
              "              style=\"display:none;\">\n",
              "        \n",
              "  <svg xmlns=\"http://www.w3.org/2000/svg\" height=\"24px\"viewBox=\"0 0 24 24\"\n",
              "       width=\"24px\">\n",
              "    <path d=\"M0 0h24v24H0V0z\" fill=\"none\"/>\n",
              "    <path d=\"M18.56 5.44l.94 2.06.94-2.06 2.06-.94-2.06-.94-.94-2.06-.94 2.06-2.06.94zm-11 1L8.5 8.5l.94-2.06 2.06-.94-2.06-.94L8.5 2.5l-.94 2.06-2.06.94zm10 10l.94 2.06.94-2.06 2.06-.94-2.06-.94-.94-2.06-.94 2.06-2.06.94z\"/><path d=\"M17.41 7.96l-1.37-1.37c-.4-.4-.92-.59-1.43-.59-.52 0-1.04.2-1.43.59L10.3 9.45l-7.72 7.72c-.78.78-.78 2.05 0 2.83L4 21.41c.39.39.9.59 1.41.59.51 0 1.02-.2 1.41-.59l7.78-7.78 2.81-2.81c.8-.78.8-2.07 0-2.86zM5.41 20L4 18.59l7.72-7.72 1.47 1.35L5.41 20z\"/>\n",
              "  </svg>\n",
              "      </button>\n",
              "      \n",
              "  <style>\n",
              "    .colab-df-container {\n",
              "      display:flex;\n",
              "      flex-wrap:wrap;\n",
              "      gap: 12px;\n",
              "    }\n",
              "\n",
              "    .colab-df-convert {\n",
              "      background-color: #E8F0FE;\n",
              "      border: none;\n",
              "      border-radius: 50%;\n",
              "      cursor: pointer;\n",
              "      display: none;\n",
              "      fill: #1967D2;\n",
              "      height: 32px;\n",
              "      padding: 0 0 0 0;\n",
              "      width: 32px;\n",
              "    }\n",
              "\n",
              "    .colab-df-convert:hover {\n",
              "      background-color: #E2EBFA;\n",
              "      box-shadow: 0px 1px 2px rgba(60, 64, 67, 0.3), 0px 1px 3px 1px rgba(60, 64, 67, 0.15);\n",
              "      fill: #174EA6;\n",
              "    }\n",
              "\n",
              "    [theme=dark] .colab-df-convert {\n",
              "      background-color: #3B4455;\n",
              "      fill: #D2E3FC;\n",
              "    }\n",
              "\n",
              "    [theme=dark] .colab-df-convert:hover {\n",
              "      background-color: #434B5C;\n",
              "      box-shadow: 0px 1px 3px 1px rgba(0, 0, 0, 0.15);\n",
              "      filter: drop-shadow(0px 1px 2px rgba(0, 0, 0, 0.3));\n",
              "      fill: #FFFFFF;\n",
              "    }\n",
              "  </style>\n",
              "\n",
              "      <script>\n",
              "        const buttonEl =\n",
              "          document.querySelector('#df-3d1daf5f-2508-421c-a1a0-76e4b527f057 button.colab-df-convert');\n",
              "        buttonEl.style.display =\n",
              "          google.colab.kernel.accessAllowed ? 'block' : 'none';\n",
              "\n",
              "        async function convertToInteractive(key) {\n",
              "          const element = document.querySelector('#df-3d1daf5f-2508-421c-a1a0-76e4b527f057');\n",
              "          const dataTable =\n",
              "            await google.colab.kernel.invokeFunction('convertToInteractive',\n",
              "                                                     [key], {});\n",
              "          if (!dataTable) return;\n",
              "\n",
              "          const docLinkHtml = 'Like what you see? Visit the ' +\n",
              "            '<a target=\"_blank\" href=https://colab.research.google.com/notebooks/data_table.ipynb>data table notebook</a>'\n",
              "            + ' to learn more about interactive tables.';\n",
              "          element.innerHTML = '';\n",
              "          dataTable['output_type'] = 'display_data';\n",
              "          await google.colab.output.renderOutput(dataTable, element);\n",
              "          const docLink = document.createElement('div');\n",
              "          docLink.innerHTML = docLinkHtml;\n",
              "          element.appendChild(docLink);\n",
              "        }\n",
              "      </script>\n",
              "    </div>\n",
              "  </div>\n",
              "  "
            ]
          },
          "metadata": {},
          "execution_count": 6
        }
      ],
      "source": [
        "subdf = df[[\"age\", \"yredu\", \"capgain\", \"caploss\", \"workhr\"]]\n",
        "subdf[:3] # show the first 3 records"
      ]
    },
    {
      "cell_type": "markdown",
      "metadata": {
        "id": "2Nru2P0E1pqD"
      },
      "source": [
        "Numpy works nicely with pandas, like below:"
      ]
    },
    {
      "cell_type": "code",
      "execution_count": null,
      "metadata": {
        "colab": {
          "base_uri": "https://localhost:8080/"
        },
        "id": "JXrS6tjp1pqE",
        "outputId": "5da96825-0ded-48af-95e1-1599b66c9616"
      },
      "outputs": [
        {
          "output_type": "execute_result",
          "data": {
            "text/plain": [
              "2842700"
            ]
          },
          "metadata": {},
          "execution_count": 10
        }
      ],
      "source": [
        "np.sum(subdf[\"caploss\"])"
      ]
    },
    {
      "cell_type": "markdown",
      "metadata": {
        "id": "Mv5mbxDM1pqH"
      },
      "source": [
        "Just like numpy arrays, you can modify\n",
        "entire columns of data rather than one scalar element at a time.\n",
        "For example, the code  \n",
        "\n",
        "`df[\"age\"] = df[\"age\"] + 1`\n",
        "\n",
        "would increment everyone's age by 1."
      ]
    },
    {
      "cell_type": "code",
      "execution_count": null,
      "metadata": {
        "colab": {
          "base_uri": "https://localhost:8080/",
          "height": 577
        },
        "collapsed": true,
        "id": "k5rlWD7-1pqH",
        "jupyter": {
          "outputs_hidden": true
        },
        "outputId": "6c399819-1019-4f50-c5a8-53a762896566"
      },
      "outputs": [
        {
          "output_type": "stream",
          "name": "stdout",
          "text": [
            "\n",
            "AGE\n",
            "Average: 38.58164675532078\n",
            "Min: 17\n",
            "Max: 90\n",
            "\n",
            "YREDU\n",
            "Average: 10.0806793403151\n",
            "Min: 1\n",
            "Max: 16\n",
            "\n",
            "CAPGAIN\n",
            "Average: 1077.6488437087312\n",
            "Min: 0\n",
            "Max: 99999\n",
            "\n",
            "CAPLOSS\n",
            "Average: 87.303829734959\n",
            "Min: 0\n",
            "Max: 4356\n",
            "\n",
            "WORKHR\n",
            "Average: 40.437455852092995\n",
            "Min: 1\n",
            "Max: 99\n"
          ]
        },
        {
          "output_type": "execute_result",
          "data": {
            "text/plain": [
              "        age               work  fnlwgt         edu     yredu  \\\n",
              "0  0.301370          State-gov   77516   Bachelors  0.800000   \n",
              "1  0.452055   Self-emp-not-inc   83311   Bachelors  0.800000   \n",
              "2  0.287671            Private  215646     HS-grad  0.533333   \n",
              "\n",
              "              marriage          occupation    relationship    race    sex  \\\n",
              "0        Never-married        Adm-clerical   Not-in-family   White   Male   \n",
              "1   Married-civ-spouse     Exec-managerial         Husband   White   Male   \n",
              "2             Divorced   Handlers-cleaners   Not-in-family   White   Male   \n",
              "\n",
              "   capgain  caploss    workhr         country  \n",
              "0  0.02174      0.0  0.397959   United-States  \n",
              "1  0.00000      0.0  0.122449   United-States  \n",
              "2  0.00000      0.0  0.397959   United-States  "
            ],
            "text/html": [
              "\n",
              "  <div id=\"df-476012b4-1412-414e-86c5-90c6d85a094d\">\n",
              "    <div class=\"colab-df-container\">\n",
              "      <div>\n",
              "<style scoped>\n",
              "    .dataframe tbody tr th:only-of-type {\n",
              "        vertical-align: middle;\n",
              "    }\n",
              "\n",
              "    .dataframe tbody tr th {\n",
              "        vertical-align: top;\n",
              "    }\n",
              "\n",
              "    .dataframe thead th {\n",
              "        text-align: right;\n",
              "    }\n",
              "</style>\n",
              "<table border=\"1\" class=\"dataframe\">\n",
              "  <thead>\n",
              "    <tr style=\"text-align: right;\">\n",
              "      <th></th>\n",
              "      <th>age</th>\n",
              "      <th>work</th>\n",
              "      <th>fnlwgt</th>\n",
              "      <th>edu</th>\n",
              "      <th>yredu</th>\n",
              "      <th>marriage</th>\n",
              "      <th>occupation</th>\n",
              "      <th>relationship</th>\n",
              "      <th>race</th>\n",
              "      <th>sex</th>\n",
              "      <th>capgain</th>\n",
              "      <th>caploss</th>\n",
              "      <th>workhr</th>\n",
              "      <th>country</th>\n",
              "    </tr>\n",
              "  </thead>\n",
              "  <tbody>\n",
              "    <tr>\n",
              "      <th>0</th>\n",
              "      <td>0.301370</td>\n",
              "      <td>State-gov</td>\n",
              "      <td>77516</td>\n",
              "      <td>Bachelors</td>\n",
              "      <td>0.800000</td>\n",
              "      <td>Never-married</td>\n",
              "      <td>Adm-clerical</td>\n",
              "      <td>Not-in-family</td>\n",
              "      <td>White</td>\n",
              "      <td>Male</td>\n",
              "      <td>0.02174</td>\n",
              "      <td>0.0</td>\n",
              "      <td>0.397959</td>\n",
              "      <td>United-States</td>\n",
              "    </tr>\n",
              "    <tr>\n",
              "      <th>1</th>\n",
              "      <td>0.452055</td>\n",
              "      <td>Self-emp-not-inc</td>\n",
              "      <td>83311</td>\n",
              "      <td>Bachelors</td>\n",
              "      <td>0.800000</td>\n",
              "      <td>Married-civ-spouse</td>\n",
              "      <td>Exec-managerial</td>\n",
              "      <td>Husband</td>\n",
              "      <td>White</td>\n",
              "      <td>Male</td>\n",
              "      <td>0.00000</td>\n",
              "      <td>0.0</td>\n",
              "      <td>0.122449</td>\n",
              "      <td>United-States</td>\n",
              "    </tr>\n",
              "    <tr>\n",
              "      <th>2</th>\n",
              "      <td>0.287671</td>\n",
              "      <td>Private</td>\n",
              "      <td>215646</td>\n",
              "      <td>HS-grad</td>\n",
              "      <td>0.533333</td>\n",
              "      <td>Divorced</td>\n",
              "      <td>Handlers-cleaners</td>\n",
              "      <td>Not-in-family</td>\n",
              "      <td>White</td>\n",
              "      <td>Male</td>\n",
              "      <td>0.00000</td>\n",
              "      <td>0.0</td>\n",
              "      <td>0.397959</td>\n",
              "      <td>United-States</td>\n",
              "    </tr>\n",
              "  </tbody>\n",
              "</table>\n",
              "</div>\n",
              "      <button class=\"colab-df-convert\" onclick=\"convertToInteractive('df-476012b4-1412-414e-86c5-90c6d85a094d')\"\n",
              "              title=\"Convert this dataframe to an interactive table.\"\n",
              "              style=\"display:none;\">\n",
              "        \n",
              "  <svg xmlns=\"http://www.w3.org/2000/svg\" height=\"24px\"viewBox=\"0 0 24 24\"\n",
              "       width=\"24px\">\n",
              "    <path d=\"M0 0h24v24H0V0z\" fill=\"none\"/>\n",
              "    <path d=\"M18.56 5.44l.94 2.06.94-2.06 2.06-.94-2.06-.94-.94-2.06-.94 2.06-2.06.94zm-11 1L8.5 8.5l.94-2.06 2.06-.94-2.06-.94L8.5 2.5l-.94 2.06-2.06.94zm10 10l.94 2.06.94-2.06 2.06-.94-2.06-.94-.94-2.06-.94 2.06-2.06.94z\"/><path d=\"M17.41 7.96l-1.37-1.37c-.4-.4-.92-.59-1.43-.59-.52 0-1.04.2-1.43.59L10.3 9.45l-7.72 7.72c-.78.78-.78 2.05 0 2.83L4 21.41c.39.39.9.59 1.41.59.51 0 1.02-.2 1.41-.59l7.78-7.78 2.81-2.81c.8-.78.8-2.07 0-2.86zM5.41 20L4 18.59l7.72-7.72 1.47 1.35L5.41 20z\"/>\n",
              "  </svg>\n",
              "      </button>\n",
              "      \n",
              "  <style>\n",
              "    .colab-df-container {\n",
              "      display:flex;\n",
              "      flex-wrap:wrap;\n",
              "      gap: 12px;\n",
              "    }\n",
              "\n",
              "    .colab-df-convert {\n",
              "      background-color: #E8F0FE;\n",
              "      border: none;\n",
              "      border-radius: 50%;\n",
              "      cursor: pointer;\n",
              "      display: none;\n",
              "      fill: #1967D2;\n",
              "      height: 32px;\n",
              "      padding: 0 0 0 0;\n",
              "      width: 32px;\n",
              "    }\n",
              "\n",
              "    .colab-df-convert:hover {\n",
              "      background-color: #E2EBFA;\n",
              "      box-shadow: 0px 1px 2px rgba(60, 64, 67, 0.3), 0px 1px 3px 1px rgba(60, 64, 67, 0.15);\n",
              "      fill: #174EA6;\n",
              "    }\n",
              "\n",
              "    [theme=dark] .colab-df-convert {\n",
              "      background-color: #3B4455;\n",
              "      fill: #D2E3FC;\n",
              "    }\n",
              "\n",
              "    [theme=dark] .colab-df-convert:hover {\n",
              "      background-color: #434B5C;\n",
              "      box-shadow: 0px 1px 3px 1px rgba(0, 0, 0, 0.15);\n",
              "      filter: drop-shadow(0px 1px 2px rgba(0, 0, 0, 0.3));\n",
              "      fill: #FFFFFF;\n",
              "    }\n",
              "  </style>\n",
              "\n",
              "      <script>\n",
              "        const buttonEl =\n",
              "          document.querySelector('#df-476012b4-1412-414e-86c5-90c6d85a094d button.colab-df-convert');\n",
              "        buttonEl.style.display =\n",
              "          google.colab.kernel.accessAllowed ? 'block' : 'none';\n",
              "\n",
              "        async function convertToInteractive(key) {\n",
              "          const element = document.querySelector('#df-476012b4-1412-414e-86c5-90c6d85a094d');\n",
              "          const dataTable =\n",
              "            await google.colab.kernel.invokeFunction('convertToInteractive',\n",
              "                                                     [key], {});\n",
              "          if (!dataTable) return;\n",
              "\n",
              "          const docLinkHtml = 'Like what you see? Visit the ' +\n",
              "            '<a target=\"_blank\" href=https://colab.research.google.com/notebooks/data_table.ipynb>data table notebook</a>'\n",
              "            + ' to learn more about interactive tables.';\n",
              "          element.innerHTML = '';\n",
              "          dataTable['output_type'] = 'display_data';\n",
              "          await google.colab.output.renderOutput(dataTable, element);\n",
              "          const docLink = document.createElement('div');\n",
              "          docLink.innerHTML = docLinkHtml;\n",
              "          element.appendChild(docLink);\n",
              "        }\n",
              "      </script>\n",
              "    </div>\n",
              "  </div>\n",
              "  "
            ]
          },
          "metadata": {},
          "execution_count": 11
        }
      ],
      "source": [
        "num = df.shape[0]\n",
        "for col in subdf:\n",
        "  minimum = min(subdf[col])\n",
        "  maximum = max(subdf[col])\n",
        "  print(\"\\n\" + str(col).upper())\n",
        "  print(\"Average: \" + str((np.sum(subdf[col]))/num))\n",
        "  print(\"Min: \" + str(minimum))\n",
        "  print(\"Max: \" + str(maximum))\n",
        "  df[col] = (subdf[col] - minimum) / (maximum-minimum)\n",
        "\n",
        "df[:3]"
      ]
    },
    {
      "cell_type": "markdown",
      "metadata": {
        "id": "qbfMly4R1pqK"
      },
      "source": [
        "### Part (b) Categorical Features [1 pt]\n",
        "\n",
        "What percentage of people in our data set are male? Note that the data labels all have an unfortunate space in the beginning, e.g. \" Male\" instead of \"Male\".\n",
        "\n",
        "What percentage of people in our data set are female?"
      ]
    },
    {
      "cell_type": "code",
      "execution_count": null,
      "metadata": {
        "colab": {
          "base_uri": "https://localhost:8080/"
        },
        "id": "DjAjcsB_1pqK",
        "outputId": "5f6a635b-db02-49c3-f46e-5d61768ee83d"
      },
      "outputs": [
        {
          "output_type": "stream",
          "name": "stdout",
          "text": [
            "Percent Male: 66.92%\n",
            "Percent Female: 33.08%\n"
          ]
        }
      ],
      "source": [
        "# hint: you can do something like this in pandas\n",
        "count_female = (df[\"sex\"] == \" Female\").sum()\n",
        "count_male = (df[\"sex\"] == \" Male\").sum()\n",
        "count = (df[\"sex\"]).shape[0]\n",
        "percent_female = (count_female/count)*100\n",
        "percent_male = (count_male/count)*100\n",
        "\n",
        "print(\"Percent Male: \" + str(round(percent_male,2)) + \"%\")\n",
        "print(\"Percent Female: \" + str(round(percent_female,2)) + \"%\")"
      ]
    },
    {
      "cell_type": "markdown",
      "metadata": {
        "id": "eGVw7pqL1pqN"
      },
      "source": [
        "### Part (c) [2 pt]\n",
        "\n",
        "Before proceeding, we will modify our data frame in a couple more ways:\n",
        "\n",
        "1. We will restrict ourselves to using a subset of the features (to simplify our autoencoder)\n",
        "2. We will remove any records (rows) already containing missing values, and store them in a second dataframe. We will only use records without missing values to train our autoencoder.\n",
        "\n",
        "Both of these steps are done for you, below.\n",
        "\n",
        "How many records contained missing features? What percentage of records were removed?"
      ]
    },
    {
      "cell_type": "code",
      "execution_count": null,
      "metadata": {
        "collapsed": true,
        "id": "z6ewPUdv1pqO",
        "jupyter": {
          "outputs_hidden": true
        }
      },
      "outputs": [],
      "source": [
        "contcols = [\"age\", \"yredu\", \"capgain\", \"caploss\", \"workhr\"]\n",
        "catcols = [\"work\", \"marriage\", \"occupation\", \"edu\", \"relationship\", \"sex\"]\n",
        "features = contcols + catcols\n",
        "df = df[features]"
      ]
    },
    {
      "cell_type": "code",
      "execution_count": null,
      "metadata": {
        "colab": {
          "base_uri": "https://localhost:8080/"
        },
        "collapsed": true,
        "id": "fjdVll5a1pqQ",
        "jupyter": {
          "outputs_hidden": true
        },
        "outputId": "34586378-09d9-45cb-fcee-694b6b6d0d4e"
      },
      "outputs": [
        {
          "output_type": "stream",
          "name": "stdout",
          "text": [
            "Num records missing features: 1843\n",
            "Percent of records removed: 5.66%\n"
          ]
        }
      ],
      "source": [
        "missing = pd.concat([df[c] == \" ?\" for c in catcols], axis=1).any(axis=1)\n",
        "df_with_missing = df[missing]\n",
        "df_not_missing = df[~missing]\n",
        "\n",
        "print(\"Num records missing features: \" + str(df_with_missing.shape[0]))\n",
        "\n",
        "numer = df_with_missing.shape[0]\n",
        "denom = df.shape[0]\n",
        "print(\"Percent of records removed: \" + str((round(numer/denom, 4))*100) + \"%\")"
      ]
    },
    {
      "cell_type": "markdown",
      "metadata": {
        "id": "XuEpndTQ1pqU"
      },
      "source": [
        "### Part (d) One-Hot Encoding [1 pt]\n",
        "\n",
        "What are all the possible values of the feature \"work\" in `df_not_missing`? You may find the Python function `set` useful."
      ]
    },
    {
      "cell_type": "code",
      "execution_count": null,
      "metadata": {
        "colab": {
          "base_uri": "https://localhost:8080/"
        },
        "collapsed": true,
        "id": "iKFh4owE1pqV",
        "jupyter": {
          "outputs_hidden": true
        },
        "outputId": "e3255eea-25c9-49b6-a9ad-d942792bddf8"
      },
      "outputs": [
        {
          "output_type": "stream",
          "name": "stdout",
          "text": [
            "{' State-gov', ' Federal-gov', ' Private', ' Self-emp-not-inc', ' Without-pay', ' Local-gov', ' Self-emp-inc'}\n"
          ]
        }
      ],
      "source": [
        "newSet = set(df_not_missing[\"work\"])\n",
        "print(newSet)"
      ]
    },
    {
      "cell_type": "markdown",
      "metadata": {
        "id": "COv3HaKr1pqY"
      },
      "source": [
        "We will be using a one-hot encoding to represent each of the categorical variables.\n",
        "Our autoencoder will be trained using these one-hot encodings.\n",
        "\n",
        "We will use the pandas function `get_dummies` to produce one-hot encodings\n",
        "for all of the categorical variables in `df_not_missing`."
      ]
    },
    {
      "cell_type": "code",
      "execution_count": null,
      "metadata": {
        "collapsed": true,
        "id": "eKlSYmJg1pqZ",
        "jupyter": {
          "outputs_hidden": true
        }
      },
      "outputs": [],
      "source": [
        "data = pd.get_dummies(df_not_missing)"
      ]
    },
    {
      "cell_type": "code",
      "execution_count": null,
      "metadata": {
        "colab": {
          "base_uri": "https://localhost:8080/",
          "height": 251
        },
        "collapsed": true,
        "id": "3y7nTZ7H1pqb",
        "jupyter": {
          "outputs_hidden": true
        },
        "scrolled": true,
        "outputId": "8db52edc-9895-4e4d-ddf9-162642ca8bc7"
      },
      "outputs": [
        {
          "output_type": "execute_result",
          "data": {
            "text/plain": [
              "        age     yredu  capgain  caploss    workhr  work_ Federal-gov  \\\n",
              "0  0.301370  0.800000  0.02174      0.0  0.397959                  0   \n",
              "1  0.452055  0.800000  0.00000      0.0  0.122449                  0   \n",
              "2  0.287671  0.533333  0.00000      0.0  0.397959                  0   \n",
              "\n",
              "   work_ Local-gov  work_ Private  work_ Self-emp-inc  work_ Self-emp-not-inc  \\\n",
              "0                0              0                   0                       0   \n",
              "1                0              0                   0                       1   \n",
              "2                0              1                   0                       0   \n",
              "\n",
              "   ...  edu_ Prof-school  edu_ Some-college  relationship_ Husband  \\\n",
              "0  ...                 0                  0                      0   \n",
              "1  ...                 0                  0                      1   \n",
              "2  ...                 0                  0                      0   \n",
              "\n",
              "   relationship_ Not-in-family  relationship_ Other-relative  \\\n",
              "0                            1                             0   \n",
              "1                            0                             0   \n",
              "2                            1                             0   \n",
              "\n",
              "   relationship_ Own-child  relationship_ Unmarried  relationship_ Wife  \\\n",
              "0                        0                        0                   0   \n",
              "1                        0                        0                   0   \n",
              "2                        0                        0                   0   \n",
              "\n",
              "   sex_ Female  sex_ Male  \n",
              "0            0          1  \n",
              "1            0          1  \n",
              "2            0          1  \n",
              "\n",
              "[3 rows x 57 columns]"
            ],
            "text/html": [
              "\n",
              "  <div id=\"df-73401f15-3f2b-4504-83e8-fa48190c4c50\">\n",
              "    <div class=\"colab-df-container\">\n",
              "      <div>\n",
              "<style scoped>\n",
              "    .dataframe tbody tr th:only-of-type {\n",
              "        vertical-align: middle;\n",
              "    }\n",
              "\n",
              "    .dataframe tbody tr th {\n",
              "        vertical-align: top;\n",
              "    }\n",
              "\n",
              "    .dataframe thead th {\n",
              "        text-align: right;\n",
              "    }\n",
              "</style>\n",
              "<table border=\"1\" class=\"dataframe\">\n",
              "  <thead>\n",
              "    <tr style=\"text-align: right;\">\n",
              "      <th></th>\n",
              "      <th>age</th>\n",
              "      <th>yredu</th>\n",
              "      <th>capgain</th>\n",
              "      <th>caploss</th>\n",
              "      <th>workhr</th>\n",
              "      <th>work_ Federal-gov</th>\n",
              "      <th>work_ Local-gov</th>\n",
              "      <th>work_ Private</th>\n",
              "      <th>work_ Self-emp-inc</th>\n",
              "      <th>work_ Self-emp-not-inc</th>\n",
              "      <th>...</th>\n",
              "      <th>edu_ Prof-school</th>\n",
              "      <th>edu_ Some-college</th>\n",
              "      <th>relationship_ Husband</th>\n",
              "      <th>relationship_ Not-in-family</th>\n",
              "      <th>relationship_ Other-relative</th>\n",
              "      <th>relationship_ Own-child</th>\n",
              "      <th>relationship_ Unmarried</th>\n",
              "      <th>relationship_ Wife</th>\n",
              "      <th>sex_ Female</th>\n",
              "      <th>sex_ Male</th>\n",
              "    </tr>\n",
              "  </thead>\n",
              "  <tbody>\n",
              "    <tr>\n",
              "      <th>0</th>\n",
              "      <td>0.301370</td>\n",
              "      <td>0.800000</td>\n",
              "      <td>0.02174</td>\n",
              "      <td>0.0</td>\n",
              "      <td>0.397959</td>\n",
              "      <td>0</td>\n",
              "      <td>0</td>\n",
              "      <td>0</td>\n",
              "      <td>0</td>\n",
              "      <td>0</td>\n",
              "      <td>...</td>\n",
              "      <td>0</td>\n",
              "      <td>0</td>\n",
              "      <td>0</td>\n",
              "      <td>1</td>\n",
              "      <td>0</td>\n",
              "      <td>0</td>\n",
              "      <td>0</td>\n",
              "      <td>0</td>\n",
              "      <td>0</td>\n",
              "      <td>1</td>\n",
              "    </tr>\n",
              "    <tr>\n",
              "      <th>1</th>\n",
              "      <td>0.452055</td>\n",
              "      <td>0.800000</td>\n",
              "      <td>0.00000</td>\n",
              "      <td>0.0</td>\n",
              "      <td>0.122449</td>\n",
              "      <td>0</td>\n",
              "      <td>0</td>\n",
              "      <td>0</td>\n",
              "      <td>0</td>\n",
              "      <td>1</td>\n",
              "      <td>...</td>\n",
              "      <td>0</td>\n",
              "      <td>0</td>\n",
              "      <td>1</td>\n",
              "      <td>0</td>\n",
              "      <td>0</td>\n",
              "      <td>0</td>\n",
              "      <td>0</td>\n",
              "      <td>0</td>\n",
              "      <td>0</td>\n",
              "      <td>1</td>\n",
              "    </tr>\n",
              "    <tr>\n",
              "      <th>2</th>\n",
              "      <td>0.287671</td>\n",
              "      <td>0.533333</td>\n",
              "      <td>0.00000</td>\n",
              "      <td>0.0</td>\n",
              "      <td>0.397959</td>\n",
              "      <td>0</td>\n",
              "      <td>0</td>\n",
              "      <td>1</td>\n",
              "      <td>0</td>\n",
              "      <td>0</td>\n",
              "      <td>...</td>\n",
              "      <td>0</td>\n",
              "      <td>0</td>\n",
              "      <td>0</td>\n",
              "      <td>1</td>\n",
              "      <td>0</td>\n",
              "      <td>0</td>\n",
              "      <td>0</td>\n",
              "      <td>0</td>\n",
              "      <td>0</td>\n",
              "      <td>1</td>\n",
              "    </tr>\n",
              "  </tbody>\n",
              "</table>\n",
              "<p>3 rows × 57 columns</p>\n",
              "</div>\n",
              "      <button class=\"colab-df-convert\" onclick=\"convertToInteractive('df-73401f15-3f2b-4504-83e8-fa48190c4c50')\"\n",
              "              title=\"Convert this dataframe to an interactive table.\"\n",
              "              style=\"display:none;\">\n",
              "        \n",
              "  <svg xmlns=\"http://www.w3.org/2000/svg\" height=\"24px\"viewBox=\"0 0 24 24\"\n",
              "       width=\"24px\">\n",
              "    <path d=\"M0 0h24v24H0V0z\" fill=\"none\"/>\n",
              "    <path d=\"M18.56 5.44l.94 2.06.94-2.06 2.06-.94-2.06-.94-.94-2.06-.94 2.06-2.06.94zm-11 1L8.5 8.5l.94-2.06 2.06-.94-2.06-.94L8.5 2.5l-.94 2.06-2.06.94zm10 10l.94 2.06.94-2.06 2.06-.94-2.06-.94-.94-2.06-.94 2.06-2.06.94z\"/><path d=\"M17.41 7.96l-1.37-1.37c-.4-.4-.92-.59-1.43-.59-.52 0-1.04.2-1.43.59L10.3 9.45l-7.72 7.72c-.78.78-.78 2.05 0 2.83L4 21.41c.39.39.9.59 1.41.59.51 0 1.02-.2 1.41-.59l7.78-7.78 2.81-2.81c.8-.78.8-2.07 0-2.86zM5.41 20L4 18.59l7.72-7.72 1.47 1.35L5.41 20z\"/>\n",
              "  </svg>\n",
              "      </button>\n",
              "      \n",
              "  <style>\n",
              "    .colab-df-container {\n",
              "      display:flex;\n",
              "      flex-wrap:wrap;\n",
              "      gap: 12px;\n",
              "    }\n",
              "\n",
              "    .colab-df-convert {\n",
              "      background-color: #E8F0FE;\n",
              "      border: none;\n",
              "      border-radius: 50%;\n",
              "      cursor: pointer;\n",
              "      display: none;\n",
              "      fill: #1967D2;\n",
              "      height: 32px;\n",
              "      padding: 0 0 0 0;\n",
              "      width: 32px;\n",
              "    }\n",
              "\n",
              "    .colab-df-convert:hover {\n",
              "      background-color: #E2EBFA;\n",
              "      box-shadow: 0px 1px 2px rgba(60, 64, 67, 0.3), 0px 1px 3px 1px rgba(60, 64, 67, 0.15);\n",
              "      fill: #174EA6;\n",
              "    }\n",
              "\n",
              "    [theme=dark] .colab-df-convert {\n",
              "      background-color: #3B4455;\n",
              "      fill: #D2E3FC;\n",
              "    }\n",
              "\n",
              "    [theme=dark] .colab-df-convert:hover {\n",
              "      background-color: #434B5C;\n",
              "      box-shadow: 0px 1px 3px 1px rgba(0, 0, 0, 0.15);\n",
              "      filter: drop-shadow(0px 1px 2px rgba(0, 0, 0, 0.3));\n",
              "      fill: #FFFFFF;\n",
              "    }\n",
              "  </style>\n",
              "\n",
              "      <script>\n",
              "        const buttonEl =\n",
              "          document.querySelector('#df-73401f15-3f2b-4504-83e8-fa48190c4c50 button.colab-df-convert');\n",
              "        buttonEl.style.display =\n",
              "          google.colab.kernel.accessAllowed ? 'block' : 'none';\n",
              "\n",
              "        async function convertToInteractive(key) {\n",
              "          const element = document.querySelector('#df-73401f15-3f2b-4504-83e8-fa48190c4c50');\n",
              "          const dataTable =\n",
              "            await google.colab.kernel.invokeFunction('convertToInteractive',\n",
              "                                                     [key], {});\n",
              "          if (!dataTable) return;\n",
              "\n",
              "          const docLinkHtml = 'Like what you see? Visit the ' +\n",
              "            '<a target=\"_blank\" href=https://colab.research.google.com/notebooks/data_table.ipynb>data table notebook</a>'\n",
              "            + ' to learn more about interactive tables.';\n",
              "          element.innerHTML = '';\n",
              "          dataTable['output_type'] = 'display_data';\n",
              "          await google.colab.output.renderOutput(dataTable, element);\n",
              "          const docLink = document.createElement('div');\n",
              "          docLink.innerHTML = docLinkHtml;\n",
              "          element.appendChild(docLink);\n",
              "        }\n",
              "      </script>\n",
              "    </div>\n",
              "  </div>\n",
              "  "
            ]
          },
          "metadata": {},
          "execution_count": 23
        }
      ],
      "source": [
        "data[:3]"
      ]
    },
    {
      "cell_type": "markdown",
      "metadata": {
        "id": "HwjDg1uM1pqe"
      },
      "source": [
        "### Part (e) One-Hot Encoding [2 pt]\n",
        "\n",
        "The dataframe `data` contains the cleaned and normalized data that we will use to train our denoising autoencoder.\n",
        "\n",
        "How many **columns** (features) are in the dataframe `data`?\n",
        "\n",
        "Briefly explain where that number come from."
      ]
    },
    {
      "cell_type": "code",
      "execution_count": null,
      "metadata": {
        "colab": {
          "base_uri": "https://localhost:8080/"
        },
        "collapsed": true,
        "id": "yjZ5N0Tl1pqf",
        "jupyter": {
          "outputs_hidden": true
        },
        "outputId": "cc09a7a6-3bf9-4fe8-e439-54e7b2963679"
      },
      "outputs": [
        {
          "output_type": "stream",
          "name": "stdout",
          "text": [
            "Number of Columns: 57\n"
          ]
        }
      ],
      "source": [
        "print(\"Number of Columns: \" + str(data.shape[1]))"
      ]
    },
    {
      "cell_type": "markdown",
      "source": [
        "The number of columns represents the total number of possible features in the data set\n"
      ],
      "metadata": {
        "id": "9ct3Dhq4RA2F"
      }
    },
    {
      "cell_type": "markdown",
      "metadata": {
        "id": "OEJ0Ci3l1pqh"
      },
      "source": [
        "### Part (f) One-Hot Conversion [3 pt]\n",
        "\n",
        "We will convert the pandas data frame `data` into numpy, so that\n",
        "it can be further converted into a PyTorch tensor.\n",
        "However, in doing so, we lose the column label information that\n",
        "a panda data frame automatically stores.\n",
        "\n",
        "Complete the function `get_categorical_value` that will return\n",
        "the named value of a feature given a one-hot embedding.\n",
        "You may find the global variables `cat_index` and `cat_values`\n",
        "useful. (Display them and figure out what they are first.)\n",
        "\n",
        "We will need this function in the next part of the lab\n",
        "to interpret our autoencoder outputs. So, the input\n",
        "to our function `get_categorical_values` might not\n",
        "actually be \"one-hot\" -- the input may instead\n",
        "contain real-valued predictions from our neural network."
      ]
    },
    {
      "cell_type": "code",
      "execution_count": null,
      "metadata": {
        "collapsed": true,
        "id": "ZmovX6gu1pqi",
        "jupyter": {
          "outputs_hidden": true
        }
      },
      "outputs": [],
      "source": [
        "datanp = data.values.astype(np.float32)"
      ]
    },
    {
      "cell_type": "code",
      "execution_count": null,
      "metadata": {
        "collapsed": true,
        "id": "YRIa5MBd1pql",
        "jupyter": {
          "outputs_hidden": true
        }
      },
      "outputs": [],
      "source": [
        "cat_index = {}  # Mapping of feature -> start index of feature in a record\n",
        "cat_values = {} # Mapping of feature -> list of categorical values the feature can take\n",
        "\n",
        "# build up the cat_index and cat_values dictionary\n",
        "for i, header in enumerate(data.keys()):\n",
        "    if \"_\" in header: # categorical header\n",
        "        feature, value = header.split()\n",
        "        feature = feature[:-1] # remove the last char; it is always an underscore\n",
        "        if feature not in cat_index:\n",
        "            cat_index[feature] = i\n",
        "            cat_values[feature] = [value]\n",
        "        else:\n",
        "            cat_values[feature].append(value)\n",
        "\n",
        "def get_onehot(record, feature):\n",
        "    \"\"\"\n",
        "    Return the portion of `record` that is the one-hot encoding\n",
        "    of `feature`. For example, since the feature \"work\" is stored\n",
        "    in the indices [5:12] in each record, calling `get_range(record, \"work\")`\n",
        "    is equivalent to accessing `record[5:12]`.\n",
        "\n",
        "    Args:\n",
        "        - record: a numpy array representing one record, formatted\n",
        "                  the same way as a row in `data.np`\n",
        "        - feature: a string, should be an element of `catcols`\n",
        "    \"\"\"\n",
        "    start_index = cat_index[feature]\n",
        "    stop_index = cat_index[feature] + len(cat_values[feature])\n",
        "    return record[start_index:stop_index]\n",
        "\n",
        "def get_categorical_value(onehot, feature):\n",
        "    \"\"\"\n",
        "    Return the categorical value name of a feature given\n",
        "    a one-hot vector representing the feature.\n",
        "\n",
        "    Args:\n",
        "        - onehot: a numpy array one-hot representation of the feature\n",
        "        - feature: a string, should be an element of `catcols`\n",
        "\n",
        "    Examples:\n",
        "\n",
        "    >>> get_categorical_value(np.array([0., 0., 0., 0., 0., 1., 0.]), \"work\")\n",
        "    'State-gov'\n",
        "    >>> get_categorical_value(np.array([0.1, 0., 1.1, 0.2, 0., 1., 0.]), \"work\")\n",
        "    'Private'\n",
        "    \"\"\"\n",
        "    # <----- TODO: WRITE YOUR CODE HERE ----->\n",
        "    # You may find the variables `cat_index` and `cat_values`\n",
        "    # (created above) useful.\n",
        "    return cat_values[feature][np.argmax(onehot)]"
      ]
    },
    {
      "cell_type": "code",
      "execution_count": null,
      "metadata": {
        "collapsed": true,
        "id": "T_XXxZdh1pqv",
        "jupyter": {
          "outputs_hidden": true
        }
      },
      "outputs": [],
      "source": [
        "# more useful code, used during training, that depends on the function\n",
        "# you write above\n",
        "\n",
        "def get_feature(record, feature):\n",
        "    \"\"\"\n",
        "    Return the categorical feature value of a record\n",
        "    \"\"\"\n",
        "    onehot = get_onehot(record, feature)\n",
        "    return get_categorical_value(onehot, feature)\n",
        "\n",
        "def get_features(record):\n",
        "    \"\"\"\n",
        "    Return a dictionary of all categorical feature values of a record\n",
        "    \"\"\"\n",
        "    return { f: get_feature(record, f) for f in catcols }"
      ]
    },
    {
      "cell_type": "markdown",
      "metadata": {
        "id": "1_5ZZR_J1pqy"
      },
      "source": [
        "### Part (g) Train/Test Split [3 pt]\n",
        "\n",
        "Randomly split the data into approximately 70% training, 15% validation and 15% test.\n",
        "\n",
        "Report the number of items in your training, validation, and test set."
      ]
    },
    {
      "cell_type": "code",
      "execution_count": null,
      "metadata": {
        "colab": {
          "base_uri": "https://localhost:8080/"
        },
        "collapsed": true,
        "id": "TE_fTJJf1pqz",
        "jupyter": {
          "outputs_hidden": true
        },
        "outputId": "da47d948-cfc6-4c6d-cc33-180c304cc3b4"
      },
      "outputs": [
        {
          "output_type": "stream",
          "name": "stdout",
          "text": [
            "Training Dataset Size: 21503\n",
            "Testing Dataset Size: 4608\n",
            "Validation Dataset Size: 4608\n"
          ]
        }
      ],
      "source": [
        "# set the numpy seed for reproducibility\n",
        "# https://docs.scipy.org/doc/numpy/reference/generated/numpy.random.seed.html\n",
        "np.random.seed(50)\n",
        "np.random.shuffle(datanp)\n",
        "# print(datanp)\n",
        "\n",
        "# todo\n",
        "# print(len(datanp))\n",
        "lengthTrain = int(len(datanp)*0.7)\n",
        "lengthTest = int(len(datanp)*0.15)\n",
        "trainData, testData, valData= datanp[:21503], datanp[lengthTrain:(lengthTrain+lengthTest+1)], datanp[(lengthTrain+lengthTest+1):]\n",
        "print(\"Training Dataset Size:\", len(trainData))\n",
        "print(\"Testing Dataset Size:\", len(testData))\n",
        "print(\"Validation Dataset Size:\", len(valData))\n"
      ]
    },
    {
      "cell_type": "markdown",
      "metadata": {
        "id": "h9wJAKOI1pq3"
      },
      "source": [
        "## Part 2. Model Setup [5 pt]\n",
        "\n",
        "### Part (a) [4 pt]\n",
        "\n",
        "Design a fully-connected autoencoder by modifying the `encoder` and `decoder`\n",
        "below.\n",
        "\n",
        "The input to this autoencoder will be the features of the `data`, with\n",
        "one categorical feature recorded as \"missing\". The output of the autoencoder\n",
        "should be the reconstruction of the same features, but with the missing\n",
        "value filled in.\n",
        "\n",
        "**Note**: Do not reduce the dimensionality of the input too much!\n",
        "The output of your embedding is expected to contain information\n",
        "about ~11 features."
      ]
    },
    {
      "cell_type": "code",
      "execution_count": null,
      "metadata": {
        "collapsed": true,
        "id": "f3F--tdn1pq3",
        "jupyter": {
          "outputs_hidden": true
        }
      },
      "outputs": [],
      "source": [
        "from torch import nn\n",
        "\n",
        "class AutoEncoder(nn.Module):\n",
        "    def __init__(self):\n",
        "        super(AutoEncoder, self).__init__()\n",
        "        self.name = \"AutoEncoder\"\n",
        "        self.encoder = nn.Sequential(\n",
        "            nn.Linear(57, 57), # TODO -- FILL OUT THE CODE HERE!\n",
        "            nn.ReLU(),\n",
        "            nn.Linear(57, 30)\n",
        "        )\n",
        "        self.decoder = nn.Sequential(\n",
        "            nn.Linear(30, 57), # TODO -- FILL OUT THE CODE HERE!\n",
        "            nn.ReLU(),\n",
        "            nn.Linear(57, 57),\n",
        "            nn.Sigmoid() # get to the range (0, 1)\n",
        "        )\n",
        "\n",
        "    def forward(self, x):\n",
        "        x = self.encoder(x)\n",
        "        x = self.decoder(x)\n",
        "        return x"
      ]
    },
    {
      "cell_type": "markdown",
      "metadata": {
        "id": "kuEzTSAv1pq6"
      },
      "source": [
        "### Part (b) [1 pt]\n",
        "\n",
        "Explain why there is a sigmoid activation in the last step of the decoder.\n",
        "\n",
        "(**Note**: the values inside the data frame `data` and the training code in Part 3 might be helpful.)"
      ]
    },
    {
      "cell_type": "code",
      "execution_count": null,
      "metadata": {
        "collapsed": true,
        "id": "HFLd0S4H1pq6",
        "jupyter": {
          "outputs_hidden": true
        }
      },
      "outputs": [],
      "source": [
        "# Since we used one hot embedding the output of the data needs to be in 0 and 1 which is done y the sigmoid activtion function"
      ]
    },
    {
      "cell_type": "markdown",
      "metadata": {
        "id": "jYwqFWVl1pq8"
      },
      "source": [
        "## Part 3. Training [18]\n",
        "\n",
        "### Part (a) [6 pt]\n",
        "\n",
        "We will train our autoencoder in the following way:\n",
        "\n",
        "- In each iteration, we will hide one of the categorical features using the `zero_out_random_features` function\n",
        "- We will pass the data with one missing feature through the autoencoder, and obtain a reconstruction\n",
        "- We will check how close the reconstruction is compared to the original data -- including the value of the missing feature\n",
        "\n",
        "Complete the code to train the autoencoder, and plot the training and validation loss every few iterations.\n",
        "You may also want to plot training and validation \"accuracy\" every few iterations, as we will define in\n",
        "part (b). You may also want to checkpoint your model every few iterations or epochs.\n",
        "\n",
        "Use `nn.MSELoss()` as your loss function. (Side note: you might recognize that this loss function is not\n",
        "ideal for this problem, but we will use it anyway.)"
      ]
    },
    {
      "cell_type": "code",
      "execution_count": null,
      "metadata": {
        "collapsed": true,
        "id": "IDQA_-dS1pq9",
        "jupyter": {
          "outputs_hidden": true
        }
      },
      "outputs": [],
      "source": [
        "def get_model_name(name, batch_size, learning_rate, num_epochs):\n",
        "    \"\"\" Generate a name for the model consisting of all the hyperparameter values\n",
        "\n",
        "    Args:\n",
        "        config: Configuration object containing the hyperparameters\n",
        "    Returns:\n",
        "        path: A string with the hyperparameter name and value concatenated\n",
        "    \"\"\"\n",
        "    path = \"model_{0}_bs{1}_lr{2}_epoch{3}\".format(name,\n",
        "                                                   batch_size,\n",
        "                                                   learning_rate,\n",
        "                                                   num_epochs)\n",
        "    return path\n",
        "\n",
        "def plot_training_curve(path):\n",
        "    \"\"\" Plots the training curve for a model run, given the csv files\n",
        "    containing the train/validation error/loss.\n",
        "\n",
        "    Args:\n",
        "        path: The base path of the csv files produced during training\n",
        "    \"\"\"\n",
        "    import matplotlib.pyplot as plt\n",
        "    train_acc = np.loadtxt(\"{}_train_acc.csv\".format(path))\n",
        "    val_err = np.loadtxt(\"{}_val_acc.csv\".format(path))\n",
        "    train_loss = np.loadtxt(\"{}_train_loss.csv\".format(path))\n",
        "    val_loss = np.loadtxt(\"{}_val_loss.csv\".format(path))\n",
        "    plt.title(\"Train vs Validation Accuracy\")\n",
        "    n = len(train_acc) # number of epochs\n",
        "    plt.plot(range(1,n+1), train_acc, label=\"Train\")\n",
        "    plt.plot(range(1,n+1), val_err, label=\"Validation\")\n",
        "    plt.xlabel(\"Epoch\")\n",
        "    plt.ylabel(\"Accuracy\")\n",
        "    plt.legend(loc='best')\n",
        "    plt.show()\n",
        "    plt.title(\"Train vs Validation Loss\")\n",
        "    plt.plot(range(1,n+1), train_loss, label=\"Train\")\n",
        "    plt.plot(range(1,n+1), val_loss, label=\"Validation\")\n",
        "    plt.xlabel(\"Epoch\")\n",
        "    plt.ylabel(\"Loss\")\n",
        "    plt.legend(loc='best')\n",
        "    plt.show()\n",
        "\n",
        "def zero_out_feature(records, feature):\n",
        "    \"\"\" Set the feature missing in records, by setting the appropriate\n",
        "    columns of records to 0\n",
        "    \"\"\"\n",
        "    start_index = cat_index[feature]\n",
        "    stop_index = cat_index[feature] + len(cat_values[feature])\n",
        "    records[:, start_index:stop_index] = 0\n",
        "    return records\n",
        "\n",
        "def zero_out_random_feature(records):\n",
        "    \"\"\" Set one random feature missing in records, by setting the\n",
        "    appropriate columns of records to 0\n",
        "    \"\"\"\n",
        "    return zero_out_feature(records, random.choice(catcols))\n",
        "\n",
        "def train(model, train_loader, valid_loader, num_epochs=5, learning_rate=1e-4, batch_size=128):\n",
        "    \"\"\" Training loop. You should update this.\"\"\"\n",
        "    torch.manual_seed(42)\n",
        "    criterion = nn.MSELoss()\n",
        "    optimizer = torch.optim.Adam(model.parameters(), lr=learning_rate)\n",
        "\n",
        "    train_acc = np.zeros(num_epochs)\n",
        "    train_loss = np.zeros(num_epochs)\n",
        "    val_acc = np.zeros(num_epochs)\n",
        "    val_loss = np.zeros(num_epochs)\n",
        "\n",
        "    start_time = time.time()\n",
        "    for epoch in range(num_epochs):\n",
        "        for data in train_loader:\n",
        "            datam = zero_out_random_feature(data.clone()) # zero out one categorical feature\n",
        "            recon = model(datam)\n",
        "            loss = criterion(recon, data)\n",
        "            loss.backward()\n",
        "            optimizer.step()\n",
        "            optimizer.zero_grad()\n",
        "        train_acc[epoch] = get_accuracy(model, train_loader)\n",
        "        val_acc[epoch] = get_accuracy(model, valid_loader)\n",
        "        train_loss[epoch] = 1-train_acc[epoch]\n",
        "        val_loss[epoch] = 1-val_acc[epoch]\n",
        "\n",
        "        print((\"Epoch {}: Train acc: {:.4}, Train loss: {:.4} | Validation acc: {:.4}, Validation loss: {:.4}\").format(\n",
        "                   epoch + 1,\n",
        "                   train_acc[epoch],\n",
        "                   train_loss[epoch],\n",
        "                   val_acc[epoch],\n",
        "                   val_loss[epoch]))\n",
        "\n",
        "        # Save the current model (checkpoint) to a file\n",
        "        model_path = get_model_name(\"AutoEncoder\", batch_size, learning_rate, epoch)\n",
        "        torch.save(model.state_dict(), model_path)\n",
        "    print('Finished Training')\n",
        "    end_time = time.time()\n",
        "    elapsed_time = end_time - start_time\n",
        "    print(\"Total time elapsed: {:.2f} seconds\".format(elapsed_time))\n",
        "\n",
        "    # Write the train/test loss/err into CSV file for plotting later\n",
        "    epochs = np.arange(1, num_epochs + 1)\n",
        "    np.savetxt(\"{}_train_acc.csv\".format(model_path), train_acc)\n",
        "    np.savetxt(\"{}_train_loss.csv\".format(model_path), train_loss)\n",
        "    np.savetxt(\"{}_val_acc.csv\".format(model_path), val_acc)\n",
        "    np.savetxt(\"{}_val_loss.csv\".format(model_path), val_loss)"
      ]
    },
    {
      "cell_type": "markdown",
      "metadata": {
        "id": "WKk01pwx1pq_"
      },
      "source": [
        "### Part (b) [3 pt]\n",
        "\n",
        "While plotting training and validation loss is valuable, loss values are harder to compare\n",
        "than accuracy percentages. It would be nice to have a measure of \"accuracy\" in this problem.\n",
        "\n",
        "Since we will only be imputing missing categorical values, we will define an accuracy measure.\n",
        "For each record and for each categorical feature, we determine whether\n",
        "the model can predict the categorical feature given all the other features of the record.\n",
        "\n",
        "A function `get_accuracy` is written for you. It is up to you to figure out how to\n",
        "use the function. **You don't need to submit anything in this part.**\n",
        "To earn the marks, correctly plot the training and validation accuracy every few\n",
        "iterations as part of your training curve."
      ]
    },
    {
      "cell_type": "code",
      "execution_count": null,
      "metadata": {
        "collapsed": true,
        "id": "bHWLfCzM1pq_",
        "jupyter": {
          "outputs_hidden": true
        }
      },
      "outputs": [],
      "source": [
        "def get_accuracy(model, data_loader):\n",
        "    \"\"\"Return the \"accuracy\" of the autoencoder model across a data set.\n",
        "    That is, for each record and for each categorical feature,\n",
        "    we determine whether the model can successfully predict the value\n",
        "    of the categorical feature given all the other features of the\n",
        "    record. The returned \"accuracy\" measure is the percentage of times\n",
        "    that our model is successful.\n",
        "\n",
        "    Args:\n",
        "       - model: the autoencoder model, an instance of nn.Module\n",
        "       - data_loader: an instance of torch.utils.data.DataLoader\n",
        "\n",
        "    Example (to illustrate how get_accuracy is intended to be called.\n",
        "             Depending on your variable naming this code might require\n",
        "             modification.)\n",
        "\n",
        "        >>> model = AutoEncoder()\n",
        "        >>> vdl = torch.utils.data.DataLoader(data_valid, batch_size=256, shuffle=True)\n",
        "        >>> get_accuracy(model, vdl)\n",
        "    \"\"\"\n",
        "    total = 0\n",
        "    acc = 0\n",
        "    for col in catcols:\n",
        "        for item in data_loader: # minibatches\n",
        "            inp = item.detach().numpy()\n",
        "            out = model(zero_out_feature(item.clone(), col)).detach().numpy()\n",
        "            for i in range(out.shape[0]): # record in minibatch\n",
        "                acc += int(get_feature(out[i], col) == get_feature(inp[i], col))\n",
        "                total += 1\n",
        "    return acc / total"
      ]
    },
    {
      "cell_type": "markdown",
      "metadata": {
        "id": "SxCTlXoV1prB"
      },
      "source": [
        "### Part (c) [4 pt]\n",
        "\n",
        "Run your updated training code, using reasonable initial hyperparameters.\n",
        "\n",
        "Include your training curve in your submission."
      ]
    },
    {
      "cell_type": "code",
      "execution_count": null,
      "metadata": {
        "colab": {
          "base_uri": "https://localhost:8080/",
          "height": 1000
        },
        "collapsed": true,
        "id": "nj5b71l-1prC",
        "jupyter": {
          "outputs_hidden": true
        },
        "outputId": "c534ba1c-051b-47c7-d02d-a2c81094f830"
      },
      "outputs": [
        {
          "output_type": "stream",
          "name": "stdout",
          "text": [
            "Epoch 1: Train acc: 0.3941, Train loss: 0.6059 | Validation acc: 0.3921, Validation loss: 0.6079\n",
            "Epoch 2: Train acc: 0.4463, Train loss: 0.5537 | Validation acc: 0.4456, Validation loss: 0.5544\n",
            "Epoch 3: Train acc: 0.4586, Train loss: 0.5414 | Validation acc: 0.4576, Validation loss: 0.5424\n",
            "Epoch 4: Train acc: 0.4579, Train loss: 0.5421 | Validation acc: 0.4561, Validation loss: 0.5439\n",
            "Epoch 5: Train acc: 0.4547, Train loss: 0.5453 | Validation acc: 0.453, Validation loss: 0.547\n",
            "Epoch 6: Train acc: 0.4897, Train loss: 0.5103 | Validation acc: 0.4874, Validation loss: 0.5126\n",
            "Epoch 7: Train acc: 0.5191, Train loss: 0.4809 | Validation acc: 0.5161, Validation loss: 0.4839\n",
            "Epoch 8: Train acc: 0.5317, Train loss: 0.4683 | Validation acc: 0.5311, Validation loss: 0.4689\n",
            "Epoch 9: Train acc: 0.5395, Train loss: 0.4605 | Validation acc: 0.5367, Validation loss: 0.4633\n",
            "Epoch 10: Train acc: 0.5469, Train loss: 0.4531 | Validation acc: 0.5452, Validation loss: 0.4548\n",
            "Finished Training\n",
            "Total time elapsed: 19.80 seconds\n"
          ]
        },
        {
          "output_type": "display_data",
          "data": {
            "text/plain": [
              "<Figure size 640x480 with 1 Axes>"
            ],
            "image/png": "[encoded data removed]"
          },
          "metadata": {}
        },
        {
          "output_type": "display_data",
          "data": {
            "text/plain": [
              "<Figure size 640x480 with 1 Axes>"
            ],
            "image/png": "[encoded data removed]"
          },
          "metadata": {}
        }
      ],
      "source": [
        "train_loader = torch.utils.data.DataLoader(trainData, batch_size=128, shuffle=True)\n",
        "valid_loader = torch.utils.data.DataLoader(valData, batch_size=128, shuffle=True)\n",
        "\n",
        "model = AutoEncoder()\n",
        "train(model, train_loader, valid_loader, num_epochs=10)\n",
        "\n",
        "#PLOTTING\n",
        "model_path1 = get_model_name(\"AutoEncoder\", batch_size=128, learning_rate=0.0001, num_epochs=9)\n",
        "plot_training_curve(model_path1)"
      ]
    },
    {
      "cell_type": "markdown",
      "metadata": {
        "id": "h9xTwIf51prF"
      },
      "source": [
        "### Part (d) [5 pt]\n",
        "\n",
        "Tune your hyperparameters, training at least 4 different models (4 sets of hyperparameters).\n",
        "\n",
        "Do not include all your training curves. Instead, explain what hyperparameters\n",
        "you tried, what their effect was, and what your thought process was as you\n",
        "chose the next set of hyperparameters to try."
      ]
    },
    {
      "cell_type": "code",
      "execution_count": null,
      "metadata": {
        "colab": {
          "base_uri": "https://localhost:8080/"
        },
        "collapsed": true,
        "id": "PhTKt9iL1prG",
        "jupyter": {
          "outputs_hidden": true
        },
        "outputId": "01bdf6c2-9968-4251-d470-09e8e9b31a3f"
      },
      "outputs": [
        {
          "output_type": "stream",
          "name": "stdout",
          "text": [
            "Epoch 1: Train acc: 0.3941, Train loss: 0.6059 | Validation acc: 0.3921, Validation loss: 0.6079\n",
            "Epoch 2: Train acc: 0.4461, Train loss: 0.5539 | Validation acc: 0.4453, Validation loss: 0.5547\n",
            "Epoch 3: Train acc: 0.4586, Train loss: 0.5414 | Validation acc: 0.4576, Validation loss: 0.5424\n",
            "Epoch 4: Train acc: 0.4572, Train loss: 0.5428 | Validation acc: 0.4553, Validation loss: 0.5447\n",
            "Epoch 5: Train acc: 0.4548, Train loss: 0.5452 | Validation acc: 0.453, Validation loss: 0.547\n",
            "Epoch 6: Train acc: 0.4902, Train loss: 0.5098 | Validation acc: 0.4882, Validation loss: 0.5118\n",
            "Epoch 7: Train acc: 0.5148, Train loss: 0.4852 | Validation acc: 0.5119, Validation loss: 0.4881\n",
            "Epoch 8: Train acc: 0.5345, Train loss: 0.4655 | Validation acc: 0.5319, Validation loss: 0.4681\n",
            "Epoch 9: Train acc: 0.5424, Train loss: 0.4576 | Validation acc: 0.5408, Validation loss: 0.4592\n",
            "Epoch 10: Train acc: 0.547, Train loss: 0.453 | Validation acc: 0.5451, Validation loss: 0.4549\n",
            "Epoch 11: Train acc: 0.5529, Train loss: 0.4471 | Validation acc: 0.5513, Validation loss: 0.4487\n",
            "Epoch 12: Train acc: 0.557, Train loss: 0.443 | Validation acc: 0.5551, Validation loss: 0.4449\n",
            "Epoch 13: Train acc: 0.5601, Train loss: 0.4399 | Validation acc: 0.5582, Validation loss: 0.4418\n",
            "Epoch 14: Train acc: 0.5676, Train loss: 0.4324 | Validation acc: 0.5692, Validation loss: 0.4308\n",
            "Epoch 15: Train acc: 0.5697, Train loss: 0.4303 | Validation acc: 0.5698, Validation loss: 0.4302\n",
            "Epoch 16: Train acc: 0.5754, Train loss: 0.4246 | Validation acc: 0.5764, Validation loss: 0.4236\n",
            "Epoch 17: Train acc: 0.5828, Train loss: 0.4172 | Validation acc: 0.5841, Validation loss: 0.4159\n",
            "Epoch 18: Train acc: 0.5861, Train loss: 0.4139 | Validation acc: 0.5883, Validation loss: 0.4117\n",
            "Epoch 19: Train acc: 0.5845, Train loss: 0.4155 | Validation acc: 0.5884, Validation loss: 0.4116\n",
            "Epoch 20: Train acc: 0.5882, Train loss: 0.4118 | Validation acc: 0.5933, Validation loss: 0.4067\n",
            "Epoch 21: Train acc: 0.5888, Train loss: 0.4112 | Validation acc: 0.5936, Validation loss: 0.4064\n",
            "Epoch 22: Train acc: 0.5892, Train loss: 0.4108 | Validation acc: 0.5919, Validation loss: 0.4081\n",
            "Epoch 23: Train acc: 0.5913, Train loss: 0.4087 | Validation acc: 0.5969, Validation loss: 0.4031\n",
            "Epoch 24: Train acc: 0.5905, Train loss: 0.4095 | Validation acc: 0.5956, Validation loss: 0.4044\n",
            "Epoch 25: Train acc: 0.5924, Train loss: 0.4076 | Validation acc: 0.5973, Validation loss: 0.4027\n",
            "Epoch 26: Train acc: 0.5921, Train loss: 0.4079 | Validation acc: 0.5958, Validation loss: 0.4042\n",
            "Epoch 27: Train acc: 0.5926, Train loss: 0.4074 | Validation acc: 0.5962, Validation loss: 0.4038\n",
            "Epoch 28: Train acc: 0.5934, Train loss: 0.4066 | Validation acc: 0.5947, Validation loss: 0.4053\n",
            "Epoch 29: Train acc: 0.5953, Train loss: 0.4047 | Validation acc: 0.5962, Validation loss: 0.4038\n",
            "Epoch 30: Train acc: 0.5971, Train loss: 0.4029 | Validation acc: 0.5969, Validation loss: 0.4031\n",
            "Epoch 31: Train acc: 0.5996, Train loss: 0.4004 | Validation acc: 0.5983, Validation loss: 0.4017\n",
            "Epoch 32: Train acc: 0.6041, Train loss: 0.3959 | Validation acc: 0.6048, Validation loss: 0.3952\n",
            "Epoch 33: Train acc: 0.6076, Train loss: 0.3924 | Validation acc: 0.607, Validation loss: 0.393\n",
            "Epoch 34: Train acc: 0.6102, Train loss: 0.3898 | Validation acc: 0.6098, Validation loss: 0.3902\n",
            "Epoch 35: Train acc: 0.6108, Train loss: 0.3892 | Validation acc: 0.6115, Validation loss: 0.3885\n",
            "Epoch 36: Train acc: 0.6122, Train loss: 0.3878 | Validation acc: 0.6133, Validation loss: 0.3867\n",
            "Epoch 37: Train acc: 0.613, Train loss: 0.387 | Validation acc: 0.6131, Validation loss: 0.3869\n",
            "Epoch 38: Train acc: 0.6133, Train loss: 0.3867 | Validation acc: 0.6143, Validation loss: 0.3857\n",
            "Epoch 39: Train acc: 0.6118, Train loss: 0.3882 | Validation acc: 0.6115, Validation loss: 0.3885\n",
            "Epoch 40: Train acc: 0.6113, Train loss: 0.3887 | Validation acc: 0.611, Validation loss: 0.389\n",
            "Epoch 41: Train acc: 0.6132, Train loss: 0.3868 | Validation acc: 0.6122, Validation loss: 0.3878\n",
            "Epoch 42: Train acc: 0.6129, Train loss: 0.3871 | Validation acc: 0.6126, Validation loss: 0.3874\n",
            "Epoch 43: Train acc: 0.6129, Train loss: 0.3871 | Validation acc: 0.6113, Validation loss: 0.3887\n",
            "Epoch 44: Train acc: 0.6128, Train loss: 0.3872 | Validation acc: 0.6113, Validation loss: 0.3887\n",
            "Epoch 45: Train acc: 0.6143, Train loss: 0.3857 | Validation acc: 0.6135, Validation loss: 0.3865\n",
            "Epoch 46: Train acc: 0.6149, Train loss: 0.3851 | Validation acc: 0.6135, Validation loss: 0.3865\n",
            "Epoch 47: Train acc: 0.6137, Train loss: 0.3863 | Validation acc: 0.6117, Validation loss: 0.3883\n",
            "Epoch 48: Train acc: 0.6141, Train loss: 0.3859 | Validation acc: 0.6115, Validation loss: 0.3885\n",
            "Epoch 49: Train acc: 0.6151, Train loss: 0.3849 | Validation acc: 0.6128, Validation loss: 0.3872\n",
            "Epoch 50: Train acc: 0.6137, Train loss: 0.3863 | Validation acc: 0.6128, Validation loss: 0.3872\n",
            "Finished Training\n",
            "Total time elapsed: 102.45 seconds\n"
          ]
        }
      ],
      "source": [
        "# Increase the number of epochs to allow the model to train more.\n",
        "# Decrease the batch size to try and make the validation and trainind data more distinct\n",
        "model1 = AutoEncoder()\n",
        "\n",
        "train(model1, train_loader, valid_loader, num_epochs = 50, batch_size=64)"
      ]
    },
    {
      "cell_type": "code",
      "source": [
        "model_path1 = get_model_name(\"AutoEncoder\", batch_size=64, learning_rate=0.0001, num_epochs=49)\n",
        "plot_training_curve(model_path1)"
      ],
      "metadata": {
        "colab": {
          "base_uri": "https://localhost:8080/",
          "height": 927
        },
        "id": "F1R2w3X9ePMI",
        "outputId": "df4f270a-c2f9-45b5-f24a-a666b4c180a6"
      },
      "execution_count": null,
      "outputs": [
        {
          "output_type": "display_data",
          "data": {
            "text/plain": [
              "<Figure size 640x480 with 1 Axes>"
            ],
            "image/png": "[encoded data removed]"
          },
          "metadata": {}
        },
        {
          "output_type": "display_data",
          "data": {
            "text/plain": [
              "<Figure size 640x480 with 1 Axes>"
            ],
            "image/png": "[encoded data removed]"
          },
          "metadata": {}
        }
      ]
    },
    {
      "cell_type": "code",
      "source": [
        "# Increase epochs to allow model to train more\n",
        "# Increase learning rate to allow model to train faster\n",
        "# Decrease batch size again to make distinction between validation and trainind curvres\n",
        "model2 = AutoEncoder()\n",
        "\n",
        "train(model2, train_loader, valid_loader, num_epochs = 75, learning_rate=0.001, batch_size=32)"
      ],
      "metadata": {
        "colab": {
          "base_uri": "https://localhost:8080/"
        },
        "id": "CkQQ-qqRd2S4",
        "outputId": "63a473d6-ccd1-4473-d217-d48a7276f036"
      },
      "execution_count": null,
      "outputs": [
        {
          "output_type": "stream",
          "name": "stdout",
          "text": [
            "Epoch 1: Train acc: 0.5484, Train loss: 0.4516 | Validation acc: 0.5478, Validation loss: 0.4522\n",
            "Epoch 2: Train acc: 0.5771, Train loss: 0.4229 | Validation acc: 0.5795, Validation loss: 0.4205\n",
            "Epoch 3: Train acc: 0.6131, Train loss: 0.3869 | Validation acc: 0.6136, Validation loss: 0.3864\n",
            "Epoch 4: Train acc: 0.6072, Train loss: 0.3928 | Validation acc: 0.6078, Validation loss: 0.3922\n",
            "Epoch 5: Train acc: 0.6091, Train loss: 0.3909 | Validation acc: 0.6084, Validation loss: 0.3916\n",
            "Epoch 6: Train acc: 0.6184, Train loss: 0.3816 | Validation acc: 0.6161, Validation loss: 0.3839\n",
            "Epoch 7: Train acc: 0.6187, Train loss: 0.3813 | Validation acc: 0.614, Validation loss: 0.386\n",
            "Epoch 8: Train acc: 0.6319, Train loss: 0.3681 | Validation acc: 0.6275, Validation loss: 0.3725\n",
            "Epoch 9: Train acc: 0.6201, Train loss: 0.3799 | Validation acc: 0.6179, Validation loss: 0.3821\n",
            "Epoch 10: Train acc: 0.6274, Train loss: 0.3726 | Validation acc: 0.6241, Validation loss: 0.3759\n",
            "Epoch 11: Train acc: 0.6271, Train loss: 0.3729 | Validation acc: 0.6242, Validation loss: 0.3758\n",
            "Epoch 12: Train acc: 0.6297, Train loss: 0.3703 | Validation acc: 0.6269, Validation loss: 0.3731\n",
            "Epoch 13: Train acc: 0.643, Train loss: 0.357 | Validation acc: 0.6399, Validation loss: 0.3601\n",
            "Epoch 14: Train acc: 0.6317, Train loss: 0.3683 | Validation acc: 0.6281, Validation loss: 0.3719\n",
            "Epoch 15: Train acc: 0.6422, Train loss: 0.3578 | Validation acc: 0.6403, Validation loss: 0.3597\n",
            "Epoch 16: Train acc: 0.6352, Train loss: 0.3648 | Validation acc: 0.6315, Validation loss: 0.3685\n",
            "Epoch 17: Train acc: 0.6377, Train loss: 0.3623 | Validation acc: 0.6326, Validation loss: 0.3674\n",
            "Epoch 18: Train acc: 0.6457, Train loss: 0.3543 | Validation acc: 0.6417, Validation loss: 0.3583\n",
            "Epoch 19: Train acc: 0.6501, Train loss: 0.3499 | Validation acc: 0.6444, Validation loss: 0.3556\n",
            "Epoch 20: Train acc: 0.6475, Train loss: 0.3525 | Validation acc: 0.6444, Validation loss: 0.3556\n",
            "Epoch 21: Train acc: 0.6506, Train loss: 0.3494 | Validation acc: 0.6453, Validation loss: 0.3547\n",
            "Epoch 22: Train acc: 0.6493, Train loss: 0.3507 | Validation acc: 0.6458, Validation loss: 0.3542\n",
            "Epoch 23: Train acc: 0.6512, Train loss: 0.3488 | Validation acc: 0.6452, Validation loss: 0.3548\n",
            "Epoch 24: Train acc: 0.65, Train loss: 0.35 | Validation acc: 0.6433, Validation loss: 0.3567\n",
            "Epoch 25: Train acc: 0.6511, Train loss: 0.3489 | Validation acc: 0.6457, Validation loss: 0.3543\n",
            "Epoch 26: Train acc: 0.6481, Train loss: 0.3519 | Validation acc: 0.6434, Validation loss: 0.3566\n",
            "Epoch 27: Train acc: 0.6472, Train loss: 0.3528 | Validation acc: 0.6437, Validation loss: 0.3563\n",
            "Epoch 28: Train acc: 0.6486, Train loss: 0.3514 | Validation acc: 0.6462, Validation loss: 0.3538\n",
            "Epoch 29: Train acc: 0.6521, Train loss: 0.3479 | Validation acc: 0.6476, Validation loss: 0.3524\n",
            "Epoch 30: Train acc: 0.6469, Train loss: 0.3531 | Validation acc: 0.6428, Validation loss: 0.3572\n",
            "Epoch 31: Train acc: 0.6582, Train loss: 0.3418 | Validation acc: 0.6521, Validation loss: 0.3479\n",
            "Epoch 32: Train acc: 0.6568, Train loss: 0.3432 | Validation acc: 0.6496, Validation loss: 0.3504\n",
            "Epoch 33: Train acc: 0.6551, Train loss: 0.3449 | Validation acc: 0.6512, Validation loss: 0.3488\n",
            "Epoch 34: Train acc: 0.6524, Train loss: 0.3476 | Validation acc: 0.6495, Validation loss: 0.3505\n",
            "Epoch 35: Train acc: 0.6553, Train loss: 0.3447 | Validation acc: 0.6495, Validation loss: 0.3505\n",
            "Epoch 36: Train acc: 0.6627, Train loss: 0.3373 | Validation acc: 0.6596, Validation loss: 0.3404\n",
            "Epoch 37: Train acc: 0.6589, Train loss: 0.3411 | Validation acc: 0.655, Validation loss: 0.345\n",
            "Epoch 38: Train acc: 0.6605, Train loss: 0.3395 | Validation acc: 0.6554, Validation loss: 0.3446\n",
            "Epoch 39: Train acc: 0.66, Train loss: 0.34 | Validation acc: 0.6558, Validation loss: 0.3442\n",
            "Epoch 40: Train acc: 0.6549, Train loss: 0.3451 | Validation acc: 0.65, Validation loss: 0.35\n",
            "Epoch 41: Train acc: 0.655, Train loss: 0.345 | Validation acc: 0.6522, Validation loss: 0.3478\n",
            "Epoch 42: Train acc: 0.6487, Train loss: 0.3513 | Validation acc: 0.645, Validation loss: 0.355\n",
            "Epoch 43: Train acc: 0.6655, Train loss: 0.3345 | Validation acc: 0.6615, Validation loss: 0.3385\n",
            "Epoch 44: Train acc: 0.6636, Train loss: 0.3364 | Validation acc: 0.6578, Validation loss: 0.3422\n",
            "Epoch 45: Train acc: 0.659, Train loss: 0.341 | Validation acc: 0.6575, Validation loss: 0.3425\n",
            "Epoch 46: Train acc: 0.6699, Train loss: 0.3301 | Validation acc: 0.6603, Validation loss: 0.3397\n",
            "Epoch 47: Train acc: 0.665, Train loss: 0.335 | Validation acc: 0.6602, Validation loss: 0.3398\n",
            "Epoch 48: Train acc: 0.6646, Train loss: 0.3354 | Validation acc: 0.6596, Validation loss: 0.3404\n",
            "Epoch 49: Train acc: 0.6713, Train loss: 0.3287 | Validation acc: 0.664, Validation loss: 0.336\n",
            "Epoch 50: Train acc: 0.654, Train loss: 0.346 | Validation acc: 0.649, Validation loss: 0.351\n",
            "Epoch 51: Train acc: 0.6741, Train loss: 0.3259 | Validation acc: 0.6693, Validation loss: 0.3307\n",
            "Epoch 52: Train acc: 0.6783, Train loss: 0.3217 | Validation acc: 0.672, Validation loss: 0.328\n",
            "Epoch 53: Train acc: 0.6636, Train loss: 0.3364 | Validation acc: 0.6589, Validation loss: 0.3411\n",
            "Epoch 54: Train acc: 0.6687, Train loss: 0.3313 | Validation acc: 0.6631, Validation loss: 0.3369\n",
            "Epoch 55: Train acc: 0.6701, Train loss: 0.3299 | Validation acc: 0.6647, Validation loss: 0.3353\n",
            "Epoch 56: Train acc: 0.6751, Train loss: 0.3249 | Validation acc: 0.6702, Validation loss: 0.3298\n",
            "Epoch 57: Train acc: 0.666, Train loss: 0.334 | Validation acc: 0.6598, Validation loss: 0.3402\n",
            "Epoch 58: Train acc: 0.6842, Train loss: 0.3158 | Validation acc: 0.6799, Validation loss: 0.3201\n",
            "Epoch 59: Train acc: 0.6787, Train loss: 0.3213 | Validation acc: 0.6715, Validation loss: 0.3285\n",
            "Epoch 60: Train acc: 0.6685, Train loss: 0.3315 | Validation acc: 0.6607, Validation loss: 0.3393\n",
            "Epoch 61: Train acc: 0.6777, Train loss: 0.3223 | Validation acc: 0.6724, Validation loss: 0.3276\n",
            "Epoch 62: Train acc: 0.6849, Train loss: 0.3151 | Validation acc: 0.6781, Validation loss: 0.3219\n",
            "Epoch 63: Train acc: 0.6834, Train loss: 0.3166 | Validation acc: 0.6785, Validation loss: 0.3215\n",
            "Epoch 64: Train acc: 0.6714, Train loss: 0.3286 | Validation acc: 0.6683, Validation loss: 0.3317\n",
            "Epoch 65: Train acc: 0.6828, Train loss: 0.3172 | Validation acc: 0.6779, Validation loss: 0.3221\n",
            "Epoch 66: Train acc: 0.6778, Train loss: 0.3222 | Validation acc: 0.6736, Validation loss: 0.3264\n",
            "Epoch 67: Train acc: 0.6933, Train loss: 0.3067 | Validation acc: 0.6887, Validation loss: 0.3113\n",
            "Epoch 68: Train acc: 0.6989, Train loss: 0.3011 | Validation acc: 0.6929, Validation loss: 0.3071\n",
            "Epoch 69: Train acc: 0.6865, Train loss: 0.3135 | Validation acc: 0.6802, Validation loss: 0.3198\n",
            "Epoch 70: Train acc: 0.6962, Train loss: 0.3038 | Validation acc: 0.6912, Validation loss: 0.3088\n",
            "Epoch 71: Train acc: 0.7039, Train loss: 0.2961 | Validation acc: 0.6978, Validation loss: 0.3022\n",
            "Epoch 72: Train acc: 0.7089, Train loss: 0.2911 | Validation acc: 0.7035, Validation loss: 0.2965\n",
            "Epoch 73: Train acc: 0.655, Train loss: 0.345 | Validation acc: 0.6481, Validation loss: 0.3519\n",
            "Epoch 74: Train acc: 0.7099, Train loss: 0.2901 | Validation acc: 0.701, Validation loss: 0.299\n",
            "Epoch 75: Train acc: 0.6656, Train loss: 0.3344 | Validation acc: 0.6608, Validation loss: 0.3392\n",
            "Finished Training\n",
            "Total time elapsed: 155.44 seconds\n"
          ]
        }
      ]
    },
    {
      "cell_type": "code",
      "source": [
        "model_path1 = get_model_name(\"AutoEncoder\", batch_size=32, learning_rate=0.001, num_epochs=74)\n",
        "plot_training_curve(model_path1)"
      ],
      "metadata": {
        "colab": {
          "base_uri": "https://localhost:8080/",
          "height": 927
        },
        "id": "tM-gxi8bilQx",
        "outputId": "7ce63f50-167f-4623-dbe2-2b26b91b5bbf"
      },
      "execution_count": null,
      "outputs": [
        {
          "output_type": "display_data",
          "data": {
            "text/plain": [
              "<Figure size 640x480 with 1 Axes>"
            ],
            "image/png": "[encoded data removed]"
          },
          "metadata": {}
        },
        {
          "output_type": "display_data",
          "data": {
            "text/plain": [
              "<Figure size 640x480 with 1 Axes>"
            ],
            "image/png": "[encoded data removed]"
          },
          "metadata": {}
        }
      ]
    },
    {
      "cell_type": "code",
      "source": [
        "# Increase the epochs to allow model to learn weights\n",
        "# Decrease learning rate to decrease fluctuation in learning\n",
        "model3 = AutoEncoder()\n",
        "\n",
        "train(model3, train_loader, valid_loader, num_epochs = 100, learning_rate=0.0005, batch_size=32)"
      ],
      "metadata": {
        "colab": {
          "base_uri": "https://localhost:8080/"
        },
        "id": "Uz-bZt6wiugH",
        "outputId": "e4dd60dd-401b-4044-cfb5-25ad2d47e649"
      },
      "execution_count": null,
      "outputs": [
        {
          "output_type": "stream",
          "name": "stdout",
          "text": [
            "Epoch 1: Train acc: 0.467, Train loss: 0.533 | Validation acc: 0.4664, Validation loss: 0.5336\n",
            "Epoch 2: Train acc: 0.5611, Train loss: 0.4389 | Validation acc: 0.5598, Validation loss: 0.4402\n",
            "Epoch 3: Train acc: 0.5764, Train loss: 0.4236 | Validation acc: 0.5784, Validation loss: 0.4216\n",
            "Epoch 4: Train acc: 0.5963, Train loss: 0.4037 | Validation acc: 0.5976, Validation loss: 0.4024\n",
            "Epoch 5: Train acc: 0.6121, Train loss: 0.3879 | Validation acc: 0.6115, Validation loss: 0.3885\n",
            "Epoch 6: Train acc: 0.616, Train loss: 0.384 | Validation acc: 0.6138, Validation loss: 0.3862\n",
            "Epoch 7: Train acc: 0.6171, Train loss: 0.3829 | Validation acc: 0.6157, Validation loss: 0.3843\n",
            "Epoch 8: Train acc: 0.6154, Train loss: 0.3846 | Validation acc: 0.6148, Validation loss: 0.3852\n",
            "Epoch 9: Train acc: 0.6199, Train loss: 0.3801 | Validation acc: 0.6174, Validation loss: 0.3826\n",
            "Epoch 10: Train acc: 0.622, Train loss: 0.378 | Validation acc: 0.6196, Validation loss: 0.3804\n",
            "Epoch 11: Train acc: 0.6242, Train loss: 0.3758 | Validation acc: 0.6211, Validation loss: 0.3789\n",
            "Epoch 12: Train acc: 0.6303, Train loss: 0.3697 | Validation acc: 0.6267, Validation loss: 0.3733\n",
            "Epoch 13: Train acc: 0.629, Train loss: 0.371 | Validation acc: 0.6246, Validation loss: 0.3754\n",
            "Epoch 14: Train acc: 0.6362, Train loss: 0.3638 | Validation acc: 0.6325, Validation loss: 0.3675\n",
            "Epoch 15: Train acc: 0.6353, Train loss: 0.3647 | Validation acc: 0.633, Validation loss: 0.367\n",
            "Epoch 16: Train acc: 0.6339, Train loss: 0.3661 | Validation acc: 0.6288, Validation loss: 0.3712\n",
            "Epoch 17: Train acc: 0.6379, Train loss: 0.3621 | Validation acc: 0.6338, Validation loss: 0.3662\n",
            "Epoch 18: Train acc: 0.6375, Train loss: 0.3625 | Validation acc: 0.6347, Validation loss: 0.3653\n",
            "Epoch 19: Train acc: 0.6379, Train loss: 0.3621 | Validation acc: 0.6355, Validation loss: 0.3645\n",
            "Epoch 20: Train acc: 0.6442, Train loss: 0.3558 | Validation acc: 0.6417, Validation loss: 0.3583\n",
            "Epoch 21: Train acc: 0.6454, Train loss: 0.3546 | Validation acc: 0.6423, Validation loss: 0.3577\n",
            "Epoch 22: Train acc: 0.6436, Train loss: 0.3564 | Validation acc: 0.6396, Validation loss: 0.3604\n",
            "Epoch 23: Train acc: 0.6474, Train loss: 0.3526 | Validation acc: 0.6447, Validation loss: 0.3553\n",
            "Epoch 24: Train acc: 0.6468, Train loss: 0.3532 | Validation acc: 0.6432, Validation loss: 0.3568\n",
            "Epoch 25: Train acc: 0.6433, Train loss: 0.3567 | Validation acc: 0.6407, Validation loss: 0.3593\n",
            "Epoch 26: Train acc: 0.6441, Train loss: 0.3559 | Validation acc: 0.6425, Validation loss: 0.3575\n",
            "Epoch 27: Train acc: 0.6476, Train loss: 0.3524 | Validation acc: 0.6432, Validation loss: 0.3568\n",
            "Epoch 28: Train acc: 0.6485, Train loss: 0.3515 | Validation acc: 0.6463, Validation loss: 0.3537\n",
            "Epoch 29: Train acc: 0.6481, Train loss: 0.3519 | Validation acc: 0.6438, Validation loss: 0.3562\n",
            "Epoch 30: Train acc: 0.6493, Train loss: 0.3507 | Validation acc: 0.6452, Validation loss: 0.3548\n",
            "Epoch 31: Train acc: 0.6496, Train loss: 0.3504 | Validation acc: 0.6446, Validation loss: 0.3554\n",
            "Epoch 32: Train acc: 0.6511, Train loss: 0.3489 | Validation acc: 0.6468, Validation loss: 0.3532\n",
            "Epoch 33: Train acc: 0.6509, Train loss: 0.3491 | Validation acc: 0.6452, Validation loss: 0.3548\n",
            "Epoch 34: Train acc: 0.6547, Train loss: 0.3453 | Validation acc: 0.649, Validation loss: 0.351\n",
            "Epoch 35: Train acc: 0.6443, Train loss: 0.3557 | Validation acc: 0.6411, Validation loss: 0.3589\n",
            "Epoch 36: Train acc: 0.6522, Train loss: 0.3478 | Validation acc: 0.6458, Validation loss: 0.3542\n",
            "Epoch 37: Train acc: 0.6537, Train loss: 0.3463 | Validation acc: 0.6484, Validation loss: 0.3516\n",
            "Epoch 38: Train acc: 0.6541, Train loss: 0.3459 | Validation acc: 0.6504, Validation loss: 0.3496\n",
            "Epoch 39: Train acc: 0.6587, Train loss: 0.3413 | Validation acc: 0.6538, Validation loss: 0.3462\n",
            "Epoch 40: Train acc: 0.6526, Train loss: 0.3474 | Validation acc: 0.6478, Validation loss: 0.3522\n",
            "Epoch 41: Train acc: 0.6553, Train loss: 0.3447 | Validation acc: 0.6514, Validation loss: 0.3486\n",
            "Epoch 42: Train acc: 0.6582, Train loss: 0.3418 | Validation acc: 0.6531, Validation loss: 0.3469\n",
            "Epoch 43: Train acc: 0.6591, Train loss: 0.3409 | Validation acc: 0.6548, Validation loss: 0.3452\n",
            "Epoch 44: Train acc: 0.6617, Train loss: 0.3383 | Validation acc: 0.6557, Validation loss: 0.3443\n",
            "Epoch 45: Train acc: 0.6605, Train loss: 0.3395 | Validation acc: 0.6552, Validation loss: 0.3448\n",
            "Epoch 46: Train acc: 0.66, Train loss: 0.34 | Validation acc: 0.6558, Validation loss: 0.3442\n",
            "Epoch 47: Train acc: 0.66, Train loss: 0.34 | Validation acc: 0.6577, Validation loss: 0.3423\n",
            "Epoch 48: Train acc: 0.6615, Train loss: 0.3385 | Validation acc: 0.6596, Validation loss: 0.3404\n",
            "Epoch 49: Train acc: 0.6614, Train loss: 0.3386 | Validation acc: 0.6552, Validation loss: 0.3448\n",
            "Epoch 50: Train acc: 0.6636, Train loss: 0.3364 | Validation acc: 0.659, Validation loss: 0.341\n",
            "Epoch 51: Train acc: 0.6598, Train loss: 0.3402 | Validation acc: 0.6537, Validation loss: 0.3463\n",
            "Epoch 52: Train acc: 0.6603, Train loss: 0.3397 | Validation acc: 0.6573, Validation loss: 0.3427\n",
            "Epoch 53: Train acc: 0.6607, Train loss: 0.3393 | Validation acc: 0.6572, Validation loss: 0.3428\n",
            "Epoch 54: Train acc: 0.6612, Train loss: 0.3388 | Validation acc: 0.6582, Validation loss: 0.3418\n",
            "Epoch 55: Train acc: 0.6614, Train loss: 0.3386 | Validation acc: 0.6571, Validation loss: 0.3429\n",
            "Epoch 56: Train acc: 0.6633, Train loss: 0.3367 | Validation acc: 0.6577, Validation loss: 0.3423\n",
            "Epoch 57: Train acc: 0.6605, Train loss: 0.3395 | Validation acc: 0.6562, Validation loss: 0.3438\n",
            "Epoch 58: Train acc: 0.664, Train loss: 0.336 | Validation acc: 0.6603, Validation loss: 0.3397\n",
            "Epoch 59: Train acc: 0.6624, Train loss: 0.3376 | Validation acc: 0.6589, Validation loss: 0.3411\n",
            "Epoch 60: Train acc: 0.6621, Train loss: 0.3379 | Validation acc: 0.6585, Validation loss: 0.3415\n",
            "Epoch 61: Train acc: 0.6621, Train loss: 0.3379 | Validation acc: 0.6593, Validation loss: 0.3407\n",
            "Epoch 62: Train acc: 0.66, Train loss: 0.34 | Validation acc: 0.6559, Validation loss: 0.3441\n",
            "Epoch 63: Train acc: 0.6634, Train loss: 0.3366 | Validation acc: 0.6591, Validation loss: 0.3409\n",
            "Epoch 64: Train acc: 0.663, Train loss: 0.337 | Validation acc: 0.6586, Validation loss: 0.3414\n",
            "Epoch 65: Train acc: 0.6641, Train loss: 0.3359 | Validation acc: 0.6604, Validation loss: 0.3396\n",
            "Epoch 66: Train acc: 0.6663, Train loss: 0.3337 | Validation acc: 0.6617, Validation loss: 0.3383\n",
            "Epoch 67: Train acc: 0.6666, Train loss: 0.3334 | Validation acc: 0.6637, Validation loss: 0.3363\n",
            "Epoch 68: Train acc: 0.6477, Train loss: 0.3523 | Validation acc: 0.6413, Validation loss: 0.3587\n",
            "Epoch 69: Train acc: 0.6633, Train loss: 0.3367 | Validation acc: 0.6603, Validation loss: 0.3397\n",
            "Epoch 70: Train acc: 0.6591, Train loss: 0.3409 | Validation acc: 0.6569, Validation loss: 0.3431\n",
            "Epoch 71: Train acc: 0.6636, Train loss: 0.3364 | Validation acc: 0.6619, Validation loss: 0.3381\n",
            "Epoch 72: Train acc: 0.6672, Train loss: 0.3328 | Validation acc: 0.6632, Validation loss: 0.3368\n",
            "Epoch 73: Train acc: 0.6586, Train loss: 0.3414 | Validation acc: 0.6563, Validation loss: 0.3437\n",
            "Epoch 74: Train acc: 0.6658, Train loss: 0.3342 | Validation acc: 0.662, Validation loss: 0.338\n",
            "Epoch 75: Train acc: 0.6666, Train loss: 0.3334 | Validation acc: 0.6615, Validation loss: 0.3385\n",
            "Epoch 76: Train acc: 0.667, Train loss: 0.333 | Validation acc: 0.6637, Validation loss: 0.3363\n",
            "Epoch 77: Train acc: 0.6668, Train loss: 0.3332 | Validation acc: 0.6642, Validation loss: 0.3358\n",
            "Epoch 78: Train acc: 0.666, Train loss: 0.334 | Validation acc: 0.662, Validation loss: 0.338\n",
            "Epoch 79: Train acc: 0.6612, Train loss: 0.3388 | Validation acc: 0.6578, Validation loss: 0.3422\n",
            "Epoch 80: Train acc: 0.6621, Train loss: 0.3379 | Validation acc: 0.6578, Validation loss: 0.3422\n",
            "Epoch 81: Train acc: 0.6624, Train loss: 0.3376 | Validation acc: 0.6594, Validation loss: 0.3406\n",
            "Epoch 82: Train acc: 0.6657, Train loss: 0.3343 | Validation acc: 0.6586, Validation loss: 0.3414\n",
            "Epoch 83: Train acc: 0.6673, Train loss: 0.3327 | Validation acc: 0.6638, Validation loss: 0.3362\n",
            "Epoch 84: Train acc: 0.667, Train loss: 0.333 | Validation acc: 0.6628, Validation loss: 0.3372\n",
            "Epoch 85: Train acc: 0.6644, Train loss: 0.3356 | Validation acc: 0.6606, Validation loss: 0.3394\n",
            "Epoch 86: Train acc: 0.6693, Train loss: 0.3307 | Validation acc: 0.6654, Validation loss: 0.3346\n",
            "Epoch 87: Train acc: 0.6687, Train loss: 0.3313 | Validation acc: 0.6657, Validation loss: 0.3343\n",
            "Epoch 88: Train acc: 0.6691, Train loss: 0.3309 | Validation acc: 0.6657, Validation loss: 0.3343\n",
            "Epoch 89: Train acc: 0.6622, Train loss: 0.3378 | Validation acc: 0.6571, Validation loss: 0.3429\n",
            "Epoch 90: Train acc: 0.6662, Train loss: 0.3338 | Validation acc: 0.6623, Validation loss: 0.3377\n",
            "Epoch 91: Train acc: 0.6661, Train loss: 0.3339 | Validation acc: 0.6608, Validation loss: 0.3392\n",
            "Epoch 92: Train acc: 0.6651, Train loss: 0.3349 | Validation acc: 0.6623, Validation loss: 0.3377\n",
            "Epoch 93: Train acc: 0.6673, Train loss: 0.3327 | Validation acc: 0.6621, Validation loss: 0.3379\n",
            "Epoch 94: Train acc: 0.668, Train loss: 0.332 | Validation acc: 0.6624, Validation loss: 0.3376\n",
            "Epoch 95: Train acc: 0.671, Train loss: 0.329 | Validation acc: 0.6668, Validation loss: 0.3332\n",
            "Epoch 96: Train acc: 0.6709, Train loss: 0.3291 | Validation acc: 0.6666, Validation loss: 0.3334\n",
            "Epoch 97: Train acc: 0.6687, Train loss: 0.3313 | Validation acc: 0.664, Validation loss: 0.336\n",
            "Epoch 98: Train acc: 0.6729, Train loss: 0.3271 | Validation acc: 0.6666, Validation loss: 0.3334\n",
            "Epoch 99: Train acc: 0.6707, Train loss: 0.3293 | Validation acc: 0.6658, Validation loss: 0.3342\n",
            "Epoch 100: Train acc: 0.6699, Train loss: 0.3301 | Validation acc: 0.6628, Validation loss: 0.3372\n",
            "Finished Training\n",
            "Total time elapsed: 191.90 seconds\n"
          ]
        }
      ]
    },
    {
      "cell_type": "code",
      "source": [
        "model_path1 = get_model_name(\"AutoEncoder\", batch_size=32, learning_rate=0.0005, num_epochs=99)\n",
        "plot_training_curve(model_path1)"
      ],
      "metadata": {
        "colab": {
          "base_uri": "https://localhost:8080/",
          "height": 927
        },
        "id": "a7RFGboVkAtZ",
        "outputId": "a286cdb1-d420-4320-c967-9bf93966eec9"
      },
      "execution_count": null,
      "outputs": [
        {
          "output_type": "display_data",
          "data": {
            "text/plain": [
              "<Figure size 640x480 with 1 Axes>"
            ],
            "image/png": "[encoded data removed]"
          },
          "metadata": {}
        },
        {
          "output_type": "display_data",
          "data": {
            "text/plain": [
              "<Figure size 640x480 with 1 Axes>"
            ],
            "image/png": "[encoded data removed]"
          },
          "metadata": {}
        }
      ]
    },
    {
      "cell_type": "code",
      "source": [
        "# Increase the epochs by alot to allow model to learn weights\n",
        "# Lower learning rate to accomdate for increase in epochs\n",
        "# increase bathc size again to decrease noise\n",
        "model4 = AutoEncoder()\n",
        "\n",
        "train(model4, train_loader, valid_loader, num_epochs = 200, learning_rate=0.0001, batch_size=64)"
      ],
      "metadata": {
        "colab": {
          "base_uri": "https://localhost:8080/"
        },
        "id": "dGtHzCAEkM0o",
        "outputId": "aba83cde-e063-4c9a-c472-ae51c079bc8e"
      },
      "execution_count": null,
      "outputs": [
        {
          "output_type": "stream",
          "name": "stdout",
          "text": [
            "Epoch 1: Train acc: 0.3079, Train loss: 0.6921 | Validation acc: 0.3076, Validation loss: 0.6924\n",
            "Epoch 2: Train acc: 0.4402, Train loss: 0.5598 | Validation acc: 0.439, Validation loss: 0.561\n",
            "Epoch 3: Train acc: 0.4402, Train loss: 0.5598 | Validation acc: 0.439, Validation loss: 0.561\n",
            "Epoch 4: Train acc: 0.4605, Train loss: 0.5395 | Validation acc: 0.4595, Validation loss: 0.5405\n",
            "Epoch 5: Train acc: 0.4646, Train loss: 0.5354 | Validation acc: 0.4623, Validation loss: 0.5377\n",
            "Epoch 6: Train acc: 0.4785, Train loss: 0.5215 | Validation acc: 0.4755, Validation loss: 0.5245\n",
            "Epoch 7: Train acc: 0.5184, Train loss: 0.4816 | Validation acc: 0.516, Validation loss: 0.484\n",
            "Epoch 8: Train acc: 0.5338, Train loss: 0.4662 | Validation acc: 0.5297, Validation loss: 0.4703\n",
            "Epoch 9: Train acc: 0.539, Train loss: 0.461 | Validation acc: 0.5366, Validation loss: 0.4634\n",
            "Epoch 10: Train acc: 0.543, Train loss: 0.457 | Validation acc: 0.5413, Validation loss: 0.4587\n",
            "Epoch 11: Train acc: 0.5491, Train loss: 0.4509 | Validation acc: 0.5486, Validation loss: 0.4514\n",
            "Epoch 12: Train acc: 0.5542, Train loss: 0.4458 | Validation acc: 0.554, Validation loss: 0.446\n",
            "Epoch 13: Train acc: 0.5598, Train loss: 0.4402 | Validation acc: 0.5602, Validation loss: 0.4398\n",
            "Epoch 14: Train acc: 0.5654, Train loss: 0.4346 | Validation acc: 0.5673, Validation loss: 0.4327\n",
            "Epoch 15: Train acc: 0.5691, Train loss: 0.4309 | Validation acc: 0.5698, Validation loss: 0.4302\n",
            "Epoch 16: Train acc: 0.5765, Train loss: 0.4235 | Validation acc: 0.5777, Validation loss: 0.4223\n",
            "Epoch 17: Train acc: 0.584, Train loss: 0.416 | Validation acc: 0.5862, Validation loss: 0.4138\n",
            "Epoch 18: Train acc: 0.59, Train loss: 0.41 | Validation acc: 0.5924, Validation loss: 0.4076\n",
            "Epoch 19: Train acc: 0.5913, Train loss: 0.4087 | Validation acc: 0.5916, Validation loss: 0.4084\n",
            "Epoch 20: Train acc: 0.5949, Train loss: 0.4051 | Validation acc: 0.5952, Validation loss: 0.4048\n",
            "Epoch 21: Train acc: 0.5995, Train loss: 0.4005 | Validation acc: 0.6013, Validation loss: 0.3987\n",
            "Epoch 22: Train acc: 0.6036, Train loss: 0.3964 | Validation acc: 0.605, Validation loss: 0.395\n",
            "Epoch 23: Train acc: 0.6031, Train loss: 0.3969 | Validation acc: 0.6041, Validation loss: 0.3959\n",
            "Epoch 24: Train acc: 0.607, Train loss: 0.393 | Validation acc: 0.6072, Validation loss: 0.3928\n",
            "Epoch 25: Train acc: 0.6071, Train loss: 0.3929 | Validation acc: 0.6075, Validation loss: 0.3925\n",
            "Epoch 26: Train acc: 0.608, Train loss: 0.392 | Validation acc: 0.6081, Validation loss: 0.3919\n",
            "Epoch 27: Train acc: 0.6098, Train loss: 0.3902 | Validation acc: 0.6113, Validation loss: 0.3887\n",
            "Epoch 28: Train acc: 0.6129, Train loss: 0.3871 | Validation acc: 0.6131, Validation loss: 0.3869\n",
            "Epoch 29: Train acc: 0.611, Train loss: 0.389 | Validation acc: 0.6123, Validation loss: 0.3877\n",
            "Epoch 30: Train acc: 0.6132, Train loss: 0.3868 | Validation acc: 0.6142, Validation loss: 0.3858\n",
            "Epoch 31: Train acc: 0.6171, Train loss: 0.3829 | Validation acc: 0.6187, Validation loss: 0.3813\n",
            "Epoch 32: Train acc: 0.6159, Train loss: 0.3841 | Validation acc: 0.6179, Validation loss: 0.3821\n",
            "Epoch 33: Train acc: 0.6157, Train loss: 0.3843 | Validation acc: 0.6167, Validation loss: 0.3833\n",
            "Epoch 34: Train acc: 0.6154, Train loss: 0.3846 | Validation acc: 0.6175, Validation loss: 0.3825\n",
            "Epoch 35: Train acc: 0.6151, Train loss: 0.3849 | Validation acc: 0.6166, Validation loss: 0.3834\n",
            "Epoch 36: Train acc: 0.6154, Train loss: 0.3846 | Validation acc: 0.6165, Validation loss: 0.3835\n",
            "Epoch 37: Train acc: 0.6161, Train loss: 0.3839 | Validation acc: 0.6154, Validation loss: 0.3846\n",
            "Epoch 38: Train acc: 0.617, Train loss: 0.383 | Validation acc: 0.6164, Validation loss: 0.3836\n",
            "Epoch 39: Train acc: 0.6169, Train loss: 0.3831 | Validation acc: 0.617, Validation loss: 0.383\n",
            "Epoch 40: Train acc: 0.617, Train loss: 0.383 | Validation acc: 0.6181, Validation loss: 0.3819\n",
            "Epoch 41: Train acc: 0.6162, Train loss: 0.3838 | Validation acc: 0.6172, Validation loss: 0.3828\n",
            "Epoch 42: Train acc: 0.6155, Train loss: 0.3845 | Validation acc: 0.6168, Validation loss: 0.3832\n",
            "Epoch 43: Train acc: 0.6181, Train loss: 0.3819 | Validation acc: 0.62, Validation loss: 0.38\n",
            "Epoch 44: Train acc: 0.62, Train loss: 0.38 | Validation acc: 0.6223, Validation loss: 0.3777\n",
            "Epoch 45: Train acc: 0.6188, Train loss: 0.3812 | Validation acc: 0.6217, Validation loss: 0.3783\n",
            "Epoch 46: Train acc: 0.6206, Train loss: 0.3794 | Validation acc: 0.6233, Validation loss: 0.3767\n",
            "Epoch 47: Train acc: 0.6217, Train loss: 0.3783 | Validation acc: 0.6232, Validation loss: 0.3768\n",
            "Epoch 48: Train acc: 0.6203, Train loss: 0.3797 | Validation acc: 0.6213, Validation loss: 0.3787\n",
            "Epoch 49: Train acc: 0.6219, Train loss: 0.3781 | Validation acc: 0.6223, Validation loss: 0.3777\n",
            "Epoch 50: Train acc: 0.6231, Train loss: 0.3769 | Validation acc: 0.625, Validation loss: 0.375\n",
            "Epoch 51: Train acc: 0.6238, Train loss: 0.3762 | Validation acc: 0.6249, Validation loss: 0.3751\n",
            "Epoch 52: Train acc: 0.623, Train loss: 0.377 | Validation acc: 0.6245, Validation loss: 0.3755\n",
            "Epoch 53: Train acc: 0.6264, Train loss: 0.3736 | Validation acc: 0.6262, Validation loss: 0.3738\n",
            "Epoch 54: Train acc: 0.6259, Train loss: 0.3741 | Validation acc: 0.6258, Validation loss: 0.3742\n",
            "Epoch 55: Train acc: 0.6272, Train loss: 0.3728 | Validation acc: 0.6276, Validation loss: 0.3724\n",
            "Epoch 56: Train acc: 0.6261, Train loss: 0.3739 | Validation acc: 0.6265, Validation loss: 0.3735\n",
            "Epoch 57: Train acc: 0.6284, Train loss: 0.3716 | Validation acc: 0.6285, Validation loss: 0.3715\n",
            "Epoch 58: Train acc: 0.6269, Train loss: 0.3731 | Validation acc: 0.6271, Validation loss: 0.3729\n",
            "Epoch 59: Train acc: 0.6278, Train loss: 0.3722 | Validation acc: 0.6279, Validation loss: 0.3721\n",
            "Epoch 60: Train acc: 0.627, Train loss: 0.373 | Validation acc: 0.626, Validation loss: 0.374\n",
            "Epoch 61: Train acc: 0.6287, Train loss: 0.3713 | Validation acc: 0.6291, Validation loss: 0.3709\n",
            "Epoch 62: Train acc: 0.6284, Train loss: 0.3716 | Validation acc: 0.6291, Validation loss: 0.3709\n",
            "Epoch 63: Train acc: 0.6304, Train loss: 0.3696 | Validation acc: 0.6292, Validation loss: 0.3708\n",
            "Epoch 64: Train acc: 0.6305, Train loss: 0.3695 | Validation acc: 0.6295, Validation loss: 0.3705\n",
            "Epoch 65: Train acc: 0.6299, Train loss: 0.3701 | Validation acc: 0.6283, Validation loss: 0.3717\n",
            "Epoch 66: Train acc: 0.6323, Train loss: 0.3677 | Validation acc: 0.6315, Validation loss: 0.3685\n",
            "Epoch 67: Train acc: 0.6331, Train loss: 0.3669 | Validation acc: 0.6344, Validation loss: 0.3656\n",
            "Epoch 68: Train acc: 0.633, Train loss: 0.367 | Validation acc: 0.6337, Validation loss: 0.3663\n",
            "Epoch 69: Train acc: 0.6336, Train loss: 0.3664 | Validation acc: 0.6339, Validation loss: 0.3661\n",
            "Epoch 70: Train acc: 0.6325, Train loss: 0.3675 | Validation acc: 0.6324, Validation loss: 0.3676\n",
            "Epoch 71: Train acc: 0.6338, Train loss: 0.3662 | Validation acc: 0.6341, Validation loss: 0.3659\n",
            "Epoch 72: Train acc: 0.6334, Train loss: 0.3666 | Validation acc: 0.6328, Validation loss: 0.3672\n",
            "Epoch 73: Train acc: 0.6342, Train loss: 0.3658 | Validation acc: 0.6351, Validation loss: 0.3649\n",
            "Epoch 74: Train acc: 0.6354, Train loss: 0.3646 | Validation acc: 0.6357, Validation loss: 0.3643\n",
            "Epoch 75: Train acc: 0.6352, Train loss: 0.3648 | Validation acc: 0.6355, Validation loss: 0.3645\n",
            "Epoch 76: Train acc: 0.6345, Train loss: 0.3655 | Validation acc: 0.6349, Validation loss: 0.3651\n",
            "Epoch 77: Train acc: 0.6374, Train loss: 0.3626 | Validation acc: 0.6388, Validation loss: 0.3612\n",
            "Epoch 78: Train acc: 0.6381, Train loss: 0.3619 | Validation acc: 0.6374, Validation loss: 0.3626\n",
            "Epoch 79: Train acc: 0.6379, Train loss: 0.3621 | Validation acc: 0.6378, Validation loss: 0.3622\n",
            "Epoch 80: Train acc: 0.6373, Train loss: 0.3627 | Validation acc: 0.6361, Validation loss: 0.3639\n",
            "Epoch 81: Train acc: 0.6395, Train loss: 0.3605 | Validation acc: 0.639, Validation loss: 0.361\n",
            "Epoch 82: Train acc: 0.641, Train loss: 0.359 | Validation acc: 0.6412, Validation loss: 0.3588\n",
            "Epoch 83: Train acc: 0.6397, Train loss: 0.3603 | Validation acc: 0.6402, Validation loss: 0.3598\n",
            "Epoch 84: Train acc: 0.6413, Train loss: 0.3587 | Validation acc: 0.6428, Validation loss: 0.3572\n",
            "Epoch 85: Train acc: 0.6402, Train loss: 0.3598 | Validation acc: 0.6429, Validation loss: 0.3571\n",
            "Epoch 86: Train acc: 0.6403, Train loss: 0.3597 | Validation acc: 0.6408, Validation loss: 0.3592\n",
            "Epoch 87: Train acc: 0.6428, Train loss: 0.3572 | Validation acc: 0.643, Validation loss: 0.357\n",
            "Epoch 88: Train acc: 0.6437, Train loss: 0.3563 | Validation acc: 0.6446, Validation loss: 0.3554\n",
            "Epoch 89: Train acc: 0.6431, Train loss: 0.3569 | Validation acc: 0.6428, Validation loss: 0.3572\n",
            "Epoch 90: Train acc: 0.6446, Train loss: 0.3554 | Validation acc: 0.6444, Validation loss: 0.3556\n",
            "Epoch 91: Train acc: 0.6445, Train loss: 0.3555 | Validation acc: 0.6439, Validation loss: 0.3561\n",
            "Epoch 92: Train acc: 0.6451, Train loss: 0.3549 | Validation acc: 0.6439, Validation loss: 0.3561\n",
            "Epoch 93: Train acc: 0.6461, Train loss: 0.3539 | Validation acc: 0.6449, Validation loss: 0.3551\n",
            "Epoch 94: Train acc: 0.6469, Train loss: 0.3531 | Validation acc: 0.6458, Validation loss: 0.3542\n",
            "Epoch 95: Train acc: 0.6453, Train loss: 0.3547 | Validation acc: 0.6443, Validation loss: 0.3557\n",
            "Epoch 96: Train acc: 0.6465, Train loss: 0.3535 | Validation acc: 0.6446, Validation loss: 0.3554\n",
            "Epoch 97: Train acc: 0.6473, Train loss: 0.3527 | Validation acc: 0.6458, Validation loss: 0.3542\n",
            "Epoch 98: Train acc: 0.6475, Train loss: 0.3525 | Validation acc: 0.646, Validation loss: 0.354\n",
            "Epoch 99: Train acc: 0.6471, Train loss: 0.3529 | Validation acc: 0.6462, Validation loss: 0.3538\n",
            "Epoch 100: Train acc: 0.6462, Train loss: 0.3538 | Validation acc: 0.6432, Validation loss: 0.3568\n",
            "Epoch 101: Train acc: 0.6458, Train loss: 0.3542 | Validation acc: 0.646, Validation loss: 0.354\n",
            "Epoch 102: Train acc: 0.6476, Train loss: 0.3524 | Validation acc: 0.646, Validation loss: 0.354\n",
            "Epoch 103: Train acc: 0.6486, Train loss: 0.3514 | Validation acc: 0.6462, Validation loss: 0.3538\n",
            "Epoch 104: Train acc: 0.648, Train loss: 0.352 | Validation acc: 0.6466, Validation loss: 0.3534\n",
            "Epoch 105: Train acc: 0.6501, Train loss: 0.3499 | Validation acc: 0.6475, Validation loss: 0.3525\n",
            "Epoch 106: Train acc: 0.6496, Train loss: 0.3504 | Validation acc: 0.6485, Validation loss: 0.3515\n",
            "Epoch 107: Train acc: 0.6503, Train loss: 0.3497 | Validation acc: 0.6483, Validation loss: 0.3517\n",
            "Epoch 108: Train acc: 0.6491, Train loss: 0.3509 | Validation acc: 0.6471, Validation loss: 0.3529\n",
            "Epoch 109: Train acc: 0.6518, Train loss: 0.3482 | Validation acc: 0.6483, Validation loss: 0.3517\n",
            "Epoch 110: Train acc: 0.6522, Train loss: 0.3478 | Validation acc: 0.6489, Validation loss: 0.3511\n",
            "Epoch 111: Train acc: 0.6498, Train loss: 0.3502 | Validation acc: 0.6474, Validation loss: 0.3526\n",
            "Epoch 112: Train acc: 0.6529, Train loss: 0.3471 | Validation acc: 0.6504, Validation loss: 0.3496\n",
            "Epoch 113: Train acc: 0.6514, Train loss: 0.3486 | Validation acc: 0.6481, Validation loss: 0.3519\n",
            "Epoch 114: Train acc: 0.6529, Train loss: 0.3471 | Validation acc: 0.6499, Validation loss: 0.3501\n",
            "Epoch 115: Train acc: 0.6529, Train loss: 0.3471 | Validation acc: 0.6505, Validation loss: 0.3495\n",
            "Epoch 116: Train acc: 0.6532, Train loss: 0.3468 | Validation acc: 0.65, Validation loss: 0.35\n",
            "Epoch 117: Train acc: 0.6528, Train loss: 0.3472 | Validation acc: 0.65, Validation loss: 0.35\n",
            "Epoch 118: Train acc: 0.6525, Train loss: 0.3475 | Validation acc: 0.6487, Validation loss: 0.3513\n",
            "Epoch 119: Train acc: 0.6514, Train loss: 0.3486 | Validation acc: 0.6485, Validation loss: 0.3515\n",
            "Epoch 120: Train acc: 0.652, Train loss: 0.348 | Validation acc: 0.6499, Validation loss: 0.3501\n",
            "Epoch 121: Train acc: 0.6532, Train loss: 0.3468 | Validation acc: 0.6512, Validation loss: 0.3488\n",
            "Epoch 122: Train acc: 0.6545, Train loss: 0.3455 | Validation acc: 0.6505, Validation loss: 0.3495\n",
            "Epoch 123: Train acc: 0.6547, Train loss: 0.3453 | Validation acc: 0.6506, Validation loss: 0.3494\n",
            "Epoch 124: Train acc: 0.654, Train loss: 0.346 | Validation acc: 0.6516, Validation loss: 0.3484\n",
            "Epoch 125: Train acc: 0.6544, Train loss: 0.3456 | Validation acc: 0.6508, Validation loss: 0.3492\n",
            "Epoch 126: Train acc: 0.6548, Train loss: 0.3452 | Validation acc: 0.6506, Validation loss: 0.3494\n",
            "Epoch 127: Train acc: 0.6553, Train loss: 0.3447 | Validation acc: 0.6521, Validation loss: 0.3479\n",
            "Epoch 128: Train acc: 0.6552, Train loss: 0.3448 | Validation acc: 0.6517, Validation loss: 0.3483\n",
            "Epoch 129: Train acc: 0.6508, Train loss: 0.3492 | Validation acc: 0.6477, Validation loss: 0.3523\n",
            "Epoch 130: Train acc: 0.6551, Train loss: 0.3449 | Validation acc: 0.6516, Validation loss: 0.3484\n",
            "Epoch 131: Train acc: 0.6542, Train loss: 0.3458 | Validation acc: 0.6516, Validation loss: 0.3484\n",
            "Epoch 132: Train acc: 0.6534, Train loss: 0.3466 | Validation acc: 0.6503, Validation loss: 0.3497\n",
            "Epoch 133: Train acc: 0.6557, Train loss: 0.3443 | Validation acc: 0.6519, Validation loss: 0.3481\n",
            "Epoch 134: Train acc: 0.6546, Train loss: 0.3454 | Validation acc: 0.6503, Validation loss: 0.3497\n",
            "Epoch 135: Train acc: 0.6543, Train loss: 0.3457 | Validation acc: 0.6508, Validation loss: 0.3492\n",
            "Epoch 136: Train acc: 0.6534, Train loss: 0.3466 | Validation acc: 0.6499, Validation loss: 0.3501\n",
            "Epoch 137: Train acc: 0.657, Train loss: 0.343 | Validation acc: 0.6522, Validation loss: 0.3478\n",
            "Epoch 138: Train acc: 0.6539, Train loss: 0.3461 | Validation acc: 0.6496, Validation loss: 0.3504\n",
            "Epoch 139: Train acc: 0.6563, Train loss: 0.3437 | Validation acc: 0.6535, Validation loss: 0.3465\n",
            "Epoch 140: Train acc: 0.6535, Train loss: 0.3465 | Validation acc: 0.6491, Validation loss: 0.3509\n",
            "Epoch 141: Train acc: 0.6547, Train loss: 0.3453 | Validation acc: 0.6499, Validation loss: 0.3501\n",
            "Epoch 142: Train acc: 0.6565, Train loss: 0.3435 | Validation acc: 0.6534, Validation loss: 0.3466\n",
            "Epoch 143: Train acc: 0.6558, Train loss: 0.3442 | Validation acc: 0.6509, Validation loss: 0.3491\n",
            "Epoch 144: Train acc: 0.6563, Train loss: 0.3437 | Validation acc: 0.6531, Validation loss: 0.3469\n",
            "Epoch 145: Train acc: 0.6591, Train loss: 0.3409 | Validation acc: 0.6532, Validation loss: 0.3468\n",
            "Epoch 146: Train acc: 0.6577, Train loss: 0.3423 | Validation acc: 0.6541, Validation loss: 0.3459\n",
            "Epoch 147: Train acc: 0.6576, Train loss: 0.3424 | Validation acc: 0.6537, Validation loss: 0.3463\n",
            "Epoch 148: Train acc: 0.6592, Train loss: 0.3408 | Validation acc: 0.6539, Validation loss: 0.3461\n",
            "Epoch 149: Train acc: 0.6584, Train loss: 0.3416 | Validation acc: 0.6533, Validation loss: 0.3467\n",
            "Epoch 150: Train acc: 0.6602, Train loss: 0.3398 | Validation acc: 0.6543, Validation loss: 0.3457\n",
            "Epoch 151: Train acc: 0.6596, Train loss: 0.3404 | Validation acc: 0.6543, Validation loss: 0.3457\n",
            "Epoch 152: Train acc: 0.659, Train loss: 0.341 | Validation acc: 0.6541, Validation loss: 0.3459\n",
            "Epoch 153: Train acc: 0.6595, Train loss: 0.3405 | Validation acc: 0.6558, Validation loss: 0.3442\n",
            "Epoch 154: Train acc: 0.6581, Train loss: 0.3419 | Validation acc: 0.6534, Validation loss: 0.3466\n",
            "Epoch 155: Train acc: 0.6581, Train loss: 0.3419 | Validation acc: 0.6551, Validation loss: 0.3449\n",
            "Epoch 156: Train acc: 0.6593, Train loss: 0.3407 | Validation acc: 0.6554, Validation loss: 0.3446\n",
            "Epoch 157: Train acc: 0.6591, Train loss: 0.3409 | Validation acc: 0.6557, Validation loss: 0.3443\n",
            "Epoch 158: Train acc: 0.6589, Train loss: 0.3411 | Validation acc: 0.6547, Validation loss: 0.3453\n",
            "Epoch 159: Train acc: 0.6579, Train loss: 0.3421 | Validation acc: 0.6544, Validation loss: 0.3456\n",
            "Epoch 160: Train acc: 0.6594, Train loss: 0.3406 | Validation acc: 0.6551, Validation loss: 0.3449\n",
            "Epoch 161: Train acc: 0.6601, Train loss: 0.3399 | Validation acc: 0.6576, Validation loss: 0.3424\n",
            "Epoch 162: Train acc: 0.66, Train loss: 0.34 | Validation acc: 0.6551, Validation loss: 0.3449\n",
            "Epoch 163: Train acc: 0.6595, Train loss: 0.3405 | Validation acc: 0.6554, Validation loss: 0.3446\n",
            "Epoch 164: Train acc: 0.6601, Train loss: 0.3399 | Validation acc: 0.6557, Validation loss: 0.3443\n",
            "Epoch 165: Train acc: 0.6586, Train loss: 0.3414 | Validation acc: 0.6549, Validation loss: 0.3451\n",
            "Epoch 166: Train acc: 0.661, Train loss: 0.339 | Validation acc: 0.6569, Validation loss: 0.3431\n",
            "Epoch 167: Train acc: 0.6602, Train loss: 0.3398 | Validation acc: 0.6572, Validation loss: 0.3428\n",
            "Epoch 168: Train acc: 0.6597, Train loss: 0.3403 | Validation acc: 0.6549, Validation loss: 0.3451\n",
            "Epoch 169: Train acc: 0.6588, Train loss: 0.3412 | Validation acc: 0.6559, Validation loss: 0.3441\n",
            "Epoch 170: Train acc: 0.6606, Train loss: 0.3394 | Validation acc: 0.6558, Validation loss: 0.3442\n",
            "Epoch 171: Train acc: 0.6605, Train loss: 0.3395 | Validation acc: 0.657, Validation loss: 0.343\n",
            "Epoch 172: Train acc: 0.661, Train loss: 0.339 | Validation acc: 0.6559, Validation loss: 0.3441\n",
            "Epoch 173: Train acc: 0.66, Train loss: 0.34 | Validation acc: 0.656, Validation loss: 0.344\n",
            "Epoch 174: Train acc: 0.6618, Train loss: 0.3382 | Validation acc: 0.6565, Validation loss: 0.3435\n",
            "Epoch 175: Train acc: 0.661, Train loss: 0.339 | Validation acc: 0.6563, Validation loss: 0.3437\n",
            "Epoch 176: Train acc: 0.6611, Train loss: 0.3389 | Validation acc: 0.6579, Validation loss: 0.3421\n",
            "Epoch 177: Train acc: 0.6613, Train loss: 0.3387 | Validation acc: 0.6569, Validation loss: 0.3431\n",
            "Epoch 178: Train acc: 0.6633, Train loss: 0.3367 | Validation acc: 0.6576, Validation loss: 0.3424\n",
            "Epoch 179: Train acc: 0.6624, Train loss: 0.3376 | Validation acc: 0.6576, Validation loss: 0.3424\n",
            "Epoch 180: Train acc: 0.6631, Train loss: 0.3369 | Validation acc: 0.6587, Validation loss: 0.3413\n",
            "Epoch 181: Train acc: 0.6621, Train loss: 0.3379 | Validation acc: 0.6577, Validation loss: 0.3423\n",
            "Epoch 182: Train acc: 0.6629, Train loss: 0.3371 | Validation acc: 0.6589, Validation loss: 0.3411\n",
            "Epoch 183: Train acc: 0.6627, Train loss: 0.3373 | Validation acc: 0.6584, Validation loss: 0.3416\n",
            "Epoch 184: Train acc: 0.6628, Train loss: 0.3372 | Validation acc: 0.659, Validation loss: 0.341\n",
            "Epoch 185: Train acc: 0.6629, Train loss: 0.3371 | Validation acc: 0.6585, Validation loss: 0.3415\n",
            "Epoch 186: Train acc: 0.6639, Train loss: 0.3361 | Validation acc: 0.66, Validation loss: 0.34\n",
            "Epoch 187: Train acc: 0.6626, Train loss: 0.3374 | Validation acc: 0.6592, Validation loss: 0.3408\n",
            "Epoch 188: Train acc: 0.6622, Train loss: 0.3378 | Validation acc: 0.6574, Validation loss: 0.3426\n",
            "Epoch 189: Train acc: 0.6633, Train loss: 0.3367 | Validation acc: 0.6582, Validation loss: 0.3418\n",
            "Epoch 190: Train acc: 0.6627, Train loss: 0.3373 | Validation acc: 0.6575, Validation loss: 0.3425\n",
            "Epoch 191: Train acc: 0.6618, Train loss: 0.3382 | Validation acc: 0.6579, Validation loss: 0.3421\n",
            "Epoch 192: Train acc: 0.6632, Train loss: 0.3368 | Validation acc: 0.6598, Validation loss: 0.3402\n",
            "Epoch 193: Train acc: 0.6643, Train loss: 0.3357 | Validation acc: 0.6584, Validation loss: 0.3416\n",
            "Epoch 194: Train acc: 0.6643, Train loss: 0.3357 | Validation acc: 0.6581, Validation loss: 0.3419\n",
            "Epoch 195: Train acc: 0.6638, Train loss: 0.3362 | Validation acc: 0.6593, Validation loss: 0.3407\n",
            "Epoch 196: Train acc: 0.6647, Train loss: 0.3353 | Validation acc: 0.6591, Validation loss: 0.3409\n",
            "Epoch 197: Train acc: 0.6653, Train loss: 0.3347 | Validation acc: 0.6602, Validation loss: 0.3398\n",
            "Epoch 198: Train acc: 0.6654, Train loss: 0.3346 | Validation acc: 0.6603, Validation loss: 0.3397\n",
            "Epoch 199: Train acc: 0.6636, Train loss: 0.3364 | Validation acc: 0.6592, Validation loss: 0.3408\n",
            "Epoch 200: Train acc: 0.6673, Train loss: 0.3327 | Validation acc: 0.6608, Validation loss: 0.3392\n",
            "Finished Training\n",
            "Total time elapsed: 375.21 seconds\n"
          ]
        }
      ]
    },
    {
      "cell_type": "code",
      "source": [
        "model_path1 = get_model_name(\"AutoEncoder\", batch_size=64, learning_rate=0.0001, num_epochs=199)\n",
        "plot_training_curve(model_path1)"
      ],
      "metadata": {
        "colab": {
          "base_uri": "https://localhost:8080/",
          "height": 927
        },
        "id": "6xXhDYh9mS51",
        "outputId": "3ac6b5f2-4e90-47bc-f34a-92b6b5b1a366"
      },
      "execution_count": null,
      "outputs": [
        {
          "output_type": "display_data",
          "data": {
            "text/plain": [
              "<Figure size 640x480 with 1 Axes>"
            ],
            "image/png": "[encoded data removed]"
          },
          "metadata": {}
        },
        {
          "output_type": "display_data",
          "data": {
            "text/plain": [
              "<Figure size 640x480 with 1 Axes>"
            ],
            "image/png": "[encoded data removed]"
          },
          "metadata": {}
        }
      ]
    },
    {
      "cell_type": "markdown",
      "metadata": {
        "id": "ymCsZH291prI"
      },
      "source": [
        "## Part 4. Testing [12 pt]\n",
        "\n",
        "### Part (a) [2 pt]\n",
        "\n",
        "Compute and report the test accuracy."
      ]
    },
    {
      "cell_type": "code",
      "execution_count": null,
      "metadata": {
        "colab": {
          "base_uri": "https://localhost:8080/"
        },
        "collapsed": true,
        "id": "0OkSbup91prJ",
        "jupyter": {
          "outputs_hidden": true
        },
        "outputId": "973dab52-c8d0-4304-9a8d-397683629c3f"
      },
      "outputs": [
        {
          "output_type": "execute_result",
          "data": {
            "text/plain": [
              "0.6612413194444444"
            ]
          },
          "metadata": {},
          "execution_count": 67
        }
      ],
      "source": [
        "test_loader =  torch.utils.data.DataLoader(testData, batch_size=128)\n",
        "\n",
        "get_accuracy(model4, test_loader)"
      ]
    },
    {
      "cell_type": "markdown",
      "metadata": {
        "id": "UEe9yt6L1prM"
      },
      "source": [
        "### Part (b) [4 pt]\n",
        "\n",
        "Based on the test accuracy alone, it is difficult to assess whether our model\n",
        "is actually performing well. We don't know whether a high accuracy is due to\n",
        "the simplicity of the problem, or if a poor accuracy is a result of the inherent\n",
        "difficulty of the problem.\n",
        "\n",
        "It is therefore very important to be able to compare our model to at least one\n",
        "alternative. In particular, we consider a simple **baseline**\n",
        "model that is not very computationally expensive. Our neural network\n",
        "should at least outperform this baseline model. If our network is not much\n",
        "better than the baseline, then it is not doing well.\n",
        "\n",
        "For our data imputation problem, consider the following baseline model:\n",
        "to predict a missing feature, the baseline model will look at the **most common value** of the feature in the training set.\n",
        "\n",
        "For example, if the feature \"marriage\" is missing, then this model's prediction will be the most common value for \"marriage\" in the training set, which happens to be \"Married-civ-spouse\".\n",
        "\n",
        "What would be the test accuracy of this baseline model?\n"
      ]
    },
    {
      "cell_type": "code",
      "execution_count": null,
      "metadata": {
        "colab": {
          "base_uri": "https://localhost:8080/"
        },
        "collapsed": true,
        "id": "p45VHp011prN",
        "jupyter": {
          "outputs_hidden": true
        },
        "outputId": "072596b7-4748-4e05-9b34-6edf2aad01e4"
      },
      "outputs": [
        {
          "output_type": "stream",
          "name": "stdout",
          "text": [
            "{'age': 0.2602739726027397, 'yredu': 0.5333333333333333, 'capgain': 0.0, 'caploss': 0.0, 'workhr': 0.3979591836734694, 'work': ' Private', 'marriage': ' Married-civ-spouse', 'occupation': ' Prof-specialty', 'edu': ' HS-grad', 'relationship': ' Husband', 'sex': ' Male'}\n"
          ]
        }
      ],
      "source": [
        "# print(df_not_missing.shape)\n",
        "baseModel = {}\n",
        "\n",
        "for item in df_not_missing:\n",
        "  newList = df_not_missing[item].value_counts()\n",
        "  baseModel[item] = newList.idxmax()\n",
        "\n",
        "print(baseModel)"
      ]
    },
    {
      "cell_type": "code",
      "source": [
        "import operator\n",
        "newList1 = df_not_missing[\"marriage\"]\n",
        "numer = operator.countOf(newList1, baseModel[\"marriage\"])\n",
        "denom = df_not_missing.shape[0]\n",
        "\n",
        "print(\"base model test accuracy: \" + str(round(numer/denom,4)*100))"
      ],
      "metadata": {
        "colab": {
          "base_uri": "https://localhost:8080/"
        },
        "id": "FmUJ3xhXudXV",
        "outputId": "01daf003-f890-40bf-e21a-ea89f2ec50f7"
      },
      "execution_count": null,
      "outputs": [
        {
          "output_type": "stream",
          "name": "stdout",
          "text": [
            "base model test accuracy: 46.68\n"
          ]
        }
      ]
    },
    {
      "cell_type": "markdown",
      "metadata": {
        "id": "QlHu0wxh1prP"
      },
      "source": [
        "### Part (c) [1 pt]\n",
        "\n",
        "How does your test accuracy from part (a) compared to your basline test accuracy in part (b)?"
      ]
    },
    {
      "cell_type": "markdown",
      "source": [
        "The test accuracy of the base model is lower than the accuracy of the neural network which is to be expected"
      ],
      "metadata": {
        "id": "1wZW0uDcuJXa"
      }
    },
    {
      "cell_type": "markdown",
      "metadata": {
        "id": "DfQPgu1Q1prS"
      },
      "source": [
        "### Part (d) [1 pt]\n",
        "\n",
        "Look at the first item in your test data.\n",
        "Do you think it is reasonable for a human\n",
        "to be able to guess this person's education level\n",
        "based on their other features? Explain."
      ]
    },
    {
      "cell_type": "code",
      "execution_count": null,
      "metadata": {
        "colab": {
          "base_uri": "https://localhost:8080/"
        },
        "collapsed": true,
        "id": "3qbQ1vvT1prT",
        "jupyter": {
          "outputs_hidden": true
        },
        "outputId": "eabf25dd-77aa-40c0-ae79-c2253e2be49d"
      },
      "outputs": [
        {
          "output_type": "execute_result",
          "data": {
            "text/plain": [
              "{'work': 'Private',\n",
              " 'marriage': 'Married-civ-spouse',\n",
              " 'occupation': 'Exec-managerial',\n",
              " 'edu': 'Assoc-voc',\n",
              " 'relationship': 'Husband',\n",
              " 'sex': 'Male'}"
            ]
          },
          "metadata": {},
          "execution_count": 110
        }
      ],
      "source": [
        "get_features(testData[0])"
      ]
    },
    {
      "cell_type": "markdown",
      "source": [
        "I think it would be hard for a human to guess a person education based on their other features as the only useful one is their occupation which can be misleading. In this case the occupation is an executice manager which requires a high education and I dont think a human would be able to guess that this persons education is a associates degree"
      ],
      "metadata": {
        "id": "fCogc9w7u0Ay"
      }
    },
    {
      "cell_type": "markdown",
      "metadata": {
        "id": "p_d5uuAY1prZ"
      },
      "source": [
        "### Part (e) [2 pt]\n",
        "\n",
        "What is your model's prediction of this person's education\n",
        "level, given their other features?\n"
      ]
    },
    {
      "cell_type": "code",
      "execution_count": null,
      "metadata": {
        "colab": {
          "base_uri": "https://localhost:8080/",
          "height": 35
        },
        "collapsed": true,
        "id": "kBY5gKXR1pra",
        "jupyter": {
          "outputs_hidden": true
        },
        "outputId": "02915aaa-c2ee-48c1-de13-7b8dbb5c2be2"
      },
      "outputs": [
        {
          "output_type": "execute_result",
          "data": {
            "text/plain": [
              "'Bachelors'"
            ],
            "application/vnd.google.colaboratory.intrinsic+json": {
              "type": "string"
            }
          },
          "metadata": {},
          "execution_count": 124
        }
      ],
      "source": [
        "newData = zero_out_feature(testData[:1], \"edu\")[0]\n",
        "predict = model4(torch.from_numpy(newData))\n",
        "get_feature(predict.detach().numpy(), \"edu\")"
      ]
    },
    {
      "cell_type": "markdown",
      "metadata": {
        "id": "fdLNA0ce1prd"
      },
      "source": [
        "### Part (f) [2 pt]\n",
        "\n",
        "What is the baseline model's prediction\n",
        "of this person's education level?"
      ]
    },
    {
      "cell_type": "code",
      "execution_count": null,
      "metadata": {
        "colab": {
          "base_uri": "https://localhost:8080/"
        },
        "collapsed": true,
        "id": "TXgoM9qk1prd",
        "jupyter": {
          "outputs_hidden": true
        },
        "outputId": "aabad6d9-e571-4a8f-e927-10b4636f0e16"
      },
      "outputs": [
        {
          "output_type": "stream",
          "name": "stdout",
          "text": [
            " HS-grad\n"
          ]
        }
      ],
      "source": [
        "print(baseModel[\"edu\"])"
      ]
    }
  ],
  "metadata": {
    "colab": {
      "provenance": [],
      "toc_visible": true
    },
    "kernelspec": {
      "display_name": "Python 3 (ipykernel)",
      "language": "python",
      "name": "python3"
    },
    "language_info": {
      "codemirror_mode": {
        "name": "ipython",
        "version": 3
      },
      "file_extension": ".py",
      "mimetype": "text/x-python",
      "name": "python",
      "nbconvert_exporter": "python",
      "pygments_lexer": "ipython3",
      "version": "3.9.4"
    }
  },
  "nbformat": 4,
  "nbformat_minor": 0
}